{
 "cells": [
  {
   "cell_type": "markdown",
   "metadata": {},
   "source": [
    "# Assignment 1: Uninformed Search"
   ]
  },
  {
   "cell_type": "markdown",
   "metadata": {},
   "source": [
    "#### David Edwards\n"
   ]
  },
  {
   "cell_type": "markdown",
   "metadata": {},
   "source": [
    "## Overview"
   ]
  },
  {
   "cell_type": "markdown",
   "metadata": {},
   "source": [
    "Breadth-first and depth-first are two algorithms for performing\n",
    "uninformed search---a search that does not use\n",
    "knowledge about the goal of the search.  You will implement both\n",
    "search algorithms in python and test them on a simple graph."
   ]
  },
  {
   "cell_type": "markdown",
   "metadata": {},
   "source": [
    "## Required Code"
   ]
  },
  {
   "cell_type": "markdown",
   "metadata": {},
   "source": [
    "I have included the following three functions within this notebook:\n",
    "\n",
    "  * `breadthFirstSearch(startState, goalState, successorsf)` \n",
    "  * `depthFirstSearch(startState, goalState, successorsf)`\n",
    "  * `nodeSearch(startState, goalState, successorsf, breadthFirst)`\n",
    "  \n",
    "`breadthFirstSearch` and `depthFirstSearch` receive as arguments the starting state, the goal state, and a successors function.  `breadthFirstSearch` returns the breadth-first solution path as a list of states starting with the `startState` and ending with the `goalState`.  `depthFirstSearch` returns the depth-first solution path.\n",
    "\n",
    "`nodeSearch` is used by both `breadthFirstSearch` and `depthFirstSearch` as the difference in implementation was only on one line.  `nodeSearch` takes in the same arguments as the other two search functions, as well as a boolean, `breadthFirst` which determines whether the search is breadth- or depth-first.\n"
   ]
  },
  {
   "cell_type": "code",
   "execution_count": null,
   "metadata": {
    "collapsed": true
   },
   "outputs": [],
   "source": [
    "def nodeSearch(startState, goalState, successorsf, breadthFirst):\n",
    "\n",
    "    '''\n",
    "    Given a startState, and goalState, and a function to\n",
    "    calculate successors, will return a breadthFirstSearch'''\n",
    "    \n",
    "    # Initialize expanded to be empty dictionary\n",
    "    expanded = {}\n",
    "    # Initialize unExpanded to be list containing (startState, None)\n",
    "    unExpanded = [(startState, None)]\n",
    "\n",
    "    if startState == goalState:\n",
    "        return [startState]\n",
    "\n",
    "    while unExpanded:\n",
    "\n",
    "        state = unExpanded.pop()\n",
    "        parent = state[0]\n",
    "\n",
    "        # remove children which match parent\n",
    "        children = [child for child in successorsf(parent) if child != parent  ]\n",
    "\n",
    "        filteredChildren = []\n",
    "\n",
    "        for child in children:\n",
    "            if child not in expanded and (child, parent) not in unExpanded and child != parent:\n",
    "                filteredChildren.append(child)\n",
    "\n",
    "        children = filteredChildren\n",
    "\n",
    "        if(parent not in expanded):\n",
    "            expanded[parent] = state[1]\n",
    "\n",
    "        if goalState in children:\n",
    "            solutionPath = [state[0],goalState]\n",
    "\n",
    "            parent = expanded[parent]\n",
    "            while parent:\n",
    "                solutionPath.insert(0, parent)\n",
    "                parent = expanded[parent]\n",
    "\n",
    "            return solutionPath\n",
    "\n",
    "        children.sort()\n",
    "        children.reverse()\n",
    "\n",
    "        childTuples = [(c, p) for c in children for p in [state[0]]]\n",
    "\n",
    "        if breadthFirst:\n",
    "            unExpanded = childTuples + unExpanded\n",
    "        else:\n",
    "            unExpanded.extend(childTuples)\n",
    "            \n",
    "def breadthFirstSearch(startState, goalState, successorsf):\n",
    "    return nodeSearch(startState, goalState, successorsf, True)\n",
    "\n",
    "\n",
    "def depthFirstSearch(startState, goalState, successorsf):\n",
    "    return nodeSearch(startState, goalState, successorsf, False)\n",
    "\n"
   ]
  },
  {
   "cell_type": "markdown",
   "metadata": {},
   "source": [
    "# Example"
   ]
  },
  {
   "cell_type": "markdown",
   "metadata": {},
   "source": [
    "Here is a simple example.  States are defined by lower case letters.  A dictionary stores a list of successor states for each state in the graph that has successors."
   ]
  },
  {
   "cell_type": "code",
   "execution_count": null,
   "metadata": {},
   "outputs": [],
   "source": [
    "successors = {'a':  ['b', 'c', 'd'],\n",
    "              'b':  ['e', 'f', 'g'],\n",
    "              'c':  ['a', 'h', 'i'],\n",
    "              'd':  ['j', 'z'],\n",
    "              'e':  ['k', 'l'],\n",
    "              'g':  ['m'],\n",
    "              'k':  ['z']}\n",
    "successors"
   ]
  },
  {
   "cell_type": "code",
   "execution_count": null,
   "metadata": {
    "collapsed": true
   },
   "outputs": [],
   "source": [
    "import copy\n",
    "\n",
    "def successorsf(state):\n",
    "    return copy.copy(successors.get(state, []))"
   ]
  },
  {
   "cell_type": "code",
   "execution_count": null,
   "metadata": {},
   "outputs": [],
   "source": [
    "successorsf('e')"
   ]
  },
  {
   "cell_type": "code",
   "execution_count": null,
   "metadata": {},
   "outputs": [],
   "source": [
    "\n",
    "\n",
    "print(breadthFirstSearch('a', 'm', successorsf))\n",
    "\n",
    "\n"
   ]
  },
  {
   "cell_type": "code",
   "execution_count": null,
   "metadata": {},
   "outputs": [],
   "source": [
    "print('Breadth-first')\n",
    "print('path from a to a is', breadthFirstSearch('a', 'a', successorsf))\n",
    "print('path from a to m is', breadthFirstSearch('a', 'm', successorsf))\n",
    "print('path from a to z is', breadthFirstSearch('a', 'z', successorsf))"
   ]
  },
  {
   "cell_type": "code",
   "execution_count": null,
   "metadata": {},
   "outputs": [],
   "source": [
    "print('Depth-first')\n",
    "print('path from a to a is', depthFirstSearch('a', 'a', successorsf))\n",
    "print('path from a to m is', depthFirstSearch('a', 'm', successorsf))\n",
    "print('path from a to z is', depthFirstSearch('a', 'z', successorsf))"
   ]
  },
  {
   "cell_type": "markdown",
   "metadata": {},
   "source": [
    "## Grading\n",
    "\n",
    "Your notebook will be run and graded automatically. Download [A1grader.tar](http://www.cs.colostate.edu/~anderson/cs440/notebooks/A1grader.tar)  and extract A1grader.py from it. Run the code in the following cell to demonstrate an example grading session. You should see a perfect score of 80/100 if your functions are defined correctly. \n",
    "\n",
    "The remaining 20% will be based on your writing.  In markdown cells, explain what your functions are doing and summarize the algorithms.\n",
    "\n",
    "Add at least one markdown cell that describes problems you encountered in trying to solve this assignment."
   ]
  },
  {
   "cell_type": "code",
   "execution_count": null,
   "metadata": {},
   "outputs": [],
   "source": [
    "# Delete all variables defined so far (in notebook)\n",
    "for name in dir():\n",
    "    if not callable(globals()[name]) and not name.startswith('_'):\n",
    "        del globals()[name]\n",
    "\n",
    "# import numpy as np\n",
    "import os\n",
    "import copy\n",
    "\n",
    "# import A1mysolution as mine\n",
    "# import imp\n",
    "# imp.reload(mine)\n",
    "# breadthFirstSearch = mine.breadthFirstSearch\n",
    "# depthFirstSearch = mine.depthFirstSearch\n",
    "\n",
    "# trainValidateTestKFolds = mine.trainValidateTestKFolds\n",
    "# trainLinear = mine.trainLinear\n",
    "# evaluateLinear = mine.evaluateLinear\n",
    "# trainNN = mine.trainNN\n",
    "# evaluateNN = mine.evaluateNN\n",
    "\n",
    "# import neuralnetworks as nn\n",
    "\n",
    "# def within(correct, attempt, diff):\n",
    "#     return np.abs((correct-attempt) / correct)  < diff\n",
    "\n",
    "g = 0\n",
    "\n",
    "for func in ['breadthFirstSearch', 'depthFirstSearch']:\n",
    "    if func not in dir() or not callable(globals()[func]):\n",
    "        print('CRITICAL ERROR: Function named \\'{}\\' is not defined'.format(func))\n",
    "        print('  Check the spelling and capitalization of the function name.')\n",
    "\n",
    "def chuck1():\n",
    "    global g\n",
    "\n",
    "    succs = {'a': ['b'], 'b':['c', 'd'], 'c':['e'], 'd':['f', 'i'], 'e':['g', 'h', 'i']}\n",
    "    print('Searching this graph:\\n', succs)\n",
    "    def succsf(s):\n",
    "        return succs[s]\n",
    "\n",
    "    print('Looking for path from a to b.')\n",
    "    bfsCorrect = ['a', 'b']\n",
    "    dfsCorrect = ['a', 'b']\n",
    "    bfs = breadthFirstSearch('a', 'b', succsf)\n",
    "    dfs = depthFirstSearch('a', 'b', succsf)\n",
    "    \n",
    "    if bfs == bfsCorrect:\n",
    "        g += 20\n",
    "        print('20/20 points. Your breadthFirstSearch found correct solution path of',bfs)\n",
    "    else:\n",
    "        print(' 0/20 points. Your breadthFirstSearch did not find correct solution path of',bfsCorrect)\n",
    "\n",
    "    if dfs == dfsCorrect:\n",
    "        g += 20\n",
    "        print('20/20 points. Your depthFirstSearch found correct solution path of',dfs)\n",
    "    else:\n",
    "        print(' 0/20 points. Your depthFirstSearch did not find correct solution path of',dfsCorrect)\n",
    "\n",
    "    print('Looking for path from a to i.')\n",
    "    bfsCorrect = ['a', 'b', 'd', 'i']\n",
    "    dfsCorrect = ['a', 'b', 'c', 'e', 'i']\n",
    "    bfs = breadthFirstSearch('a', 'i', succsf)\n",
    "    dfs = depthFirstSearch('a', 'i', succsf)\n",
    "    if bfs == bfsCorrect:\n",
    "        g += 20\n",
    "        print('20/20 points. Your breadthFirstSearch found correct solution path of',bfs)\n",
    "    else:\n",
    "        print(' 0/20 points. Your breadthFirstSearch did not find correct solution path of',bfsCorrect)\n",
    "    if dfs == dfsCorrect:\n",
    "        g += 20\n",
    "        print('20/20 points. Your depthFirstSearch found correct solution path of',dfs)\n",
    "    else:\n",
    "        print(' 0/20 points. Your depthFirstSearch did not find correct solution path of',dfsCorrect)\n",
    "\n",
    "chuck1()\n",
    "\n",
    "print('\\n{} Grade is {}/100'.format(os.getcwd().split('/')[-1], g))\n",
    "print('Up to 20 more points will be given based on the qualty of your descriptions of the method and the results.')\n"
   ]
  }
 ],
 "metadata": {
  "anaconda-cloud": {},
  "kernelspec": {
   "display_name": "Python 3",
   "language": "python",
   "name": "python3"
  },
  "language_info": {
   "codemirror_mode": {
    "name": "ipython",
    "version": 3
   },
   "file_extension": ".py",
   "mimetype": "text/x-python",
   "name": "python",
   "nbconvert_exporter": "python",
   "pygments_lexer": "ipython3",
   "version": "3.6.2"
  }
 },
 "nbformat": 4,
 "nbformat_minor": 1
}
