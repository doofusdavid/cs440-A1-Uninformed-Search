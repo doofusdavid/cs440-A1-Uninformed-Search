{
 "cells": [
  {
   "cell_type": "markdown",
   "metadata": {},
   "source": [
    "# Assignment 1: Uninformed Search"
   ]
  },
  {
   "cell_type": "markdown",
   "metadata": {},
   "source": [
    "David Edwards"
   ]
  },
  {
   "cell_type": "markdown",
   "metadata": {},
   "source": [
    "## Overview"
   ]
  },
  {
   "cell_type": "markdown",
   "metadata": {},
   "source": [
    "The assignment was to create both breadth- and depth-first search algorithms in Python, implementing the algorithm detailed in [this notebook](http://nbviewer.jupyter.org/url/www.cs.colostate.edu/~anderson/cs440/notebooks/03%20Problem-Solving%20Agents.ipynb)."
   ]
  },
  {
   "cell_type": "markdown",
   "metadata": {},
   "source": [
    "## Required Code"
   ]
  },
  {
   "cell_type": "markdown",
   "metadata": {},
   "source": [
    "I have included the following three functions within this notebook:\n",
    "\n",
    "  * `breadthFirstSearch(startState, goalState, successorsf)` \n",
    "  * `depthFirstSearch(startState, goalState, successorsf)`\n",
    "  * `nodeSearch(startState, goalState, successorsf, breadthFirst)`\n",
    "  \n",
    "`breadthFirstSearch` and `depthFirstSearch` receive as arguments the starting state, the goal state, and a successors function.  `breadthFirstSearch` returns the breadth-first solution path as a list of states starting with the `startState` and ending with the `goalState`.  `depthFirstSearch` returns the depth-first solution path.\n",
    "\n",
    "`nodeSearch` is used by both `breadthFirstSearch` and `depthFirstSearch` as the difference in implementation was only on one line.  `nodeSearch` takes in the same arguments as the other two search functions, as well as a boolean, `breadthFirst` which determines whether the search is breadth- or depth-first.\n"
   ]
  },
  {
   "cell_type": "markdown",
   "metadata": {},
   "source": [
    "### Issues\n",
    "\n",
    "I encountered a few issues while implementing this assignment.  \n",
    "1. This was my first experience programming in Python, with the exception of modifying some Python 2 code for the [Department of Atmospheric Sciences](https://www.atmos.colostate.edu/).  That was trivial, as it was mostly moving paths, and adding parentheses to `print` statements.\n",
    "2. My brain had a hard time remembering which nomenclature was used for Lists and Dictionaries.  \n",
    "3. After being used to using a full-featured debugger, I was challenged by putting `print` statements throughout the code to try to figure out what was going on.  I ended up installing pyCharm, which helped immensely, once I figured out how to set it up for debugging.  Thankfully, I had used IntelliJ for CS455, so it wasn't too hard.\n",
    "4. When adding the examples using the 10x10 graph and using Tuples, I was unable to replicate the given results.  That took me back to the drawing board, and back into pyCharm.  I noticed there, that I was duplicating Tuples, putting `(0,0)` into the children multiple times.  This seemed to be because the successors function returned not only what I considered to be successors, but also the initial child.  Once I removed that, it seemed to work much better."
   ]
  },
  {
   "cell_type": "code",
   "execution_count": 17,
   "metadata": {},
   "outputs": [],
   "source": [
    "def nodeSearch(startState, goalState, successorsf, breadthFirst):\n",
    "\n",
    "    '''\n",
    "    Given a startState, and goalState, and a function to\n",
    "    calculate successors, and a boolean representing a breadthFirst search, \n",
    "    nodeSearch returns a breadthFirst search if breadthFirst==True, \n",
    "    or a depthFirst search if breadthFirst==False'''\n",
    "    \n",
    "    # Initialize expanded to be empty dictionary\n",
    "    expanded = {}\n",
    "    # Initialize unExpanded to be list containing (startState, None)\n",
    "    unExpanded = [(startState, None)]\n",
    "\n",
    "    if startState == goalState:\n",
    "        return [startState]\n",
    "\n",
    "    while unExpanded:\n",
    "\n",
    "        state = unExpanded.pop()\n",
    "        parent = state[0]\n",
    "\n",
    "        # remove children which match parent\n",
    "        children = [child for child in successorsf(parent) if child != parent  ]\n",
    "\n",
    "        filteredChildren = []\n",
    "\n",
    "        # Filter children, removing those in expanded, and whose key is in unExpanded, \n",
    "        # and where the child is the same as the parent\n",
    "        for child in children:\n",
    "            if child not in expanded and (child, parent) not in unExpanded and child != parent:\n",
    "                filteredChildren.append(child)\n",
    "\n",
    "        children = filteredChildren\n",
    "\n",
    "        # don't overwrite the expanded dictionary if the parent is already in it\n",
    "        if(parent not in expanded):\n",
    "            expanded[parent] = state[1]\n",
    "\n",
    "        # if the children contain the final state, iterate through the expanded\n",
    "        # dictionary, adding parents to the solutionPath, then return it.\n",
    "        if goalState in children:\n",
    "            solutionPath = [state[0],goalState]\n",
    "\n",
    "            parent = expanded[parent]\n",
    "            while parent:\n",
    "                solutionPath.insert(0, parent)\n",
    "                parent = expanded[parent]\n",
    "\n",
    "            return solutionPath\n",
    "\n",
    "        # Sort and reverse the children\n",
    "        children.sort()\n",
    "        children.reverse()\n",
    "\n",
    "        # convert the children to tuples of the child and parent\n",
    "        childTuples = [(c, p) for c in children for p in [state[0]]]\n",
    "\n",
    "        # if a Breadth-First search, add the childTuples to the front of the unExpanded list\n",
    "        # if Depth-First, add the childTuples to the end of the unExpanded list\n",
    "        if breadthFirst:\n",
    "            unExpanded = childTuples + unExpanded\n",
    "        else:\n",
    "            unExpanded.extend(childTuples)\n",
    "            \n",
    "def breadthFirstSearch(startState, goalState, successorsf):\n",
    "    '''\n",
    "    Given a startState, and goalState, and a function to\n",
    "    calculate successors, breadthFirstSearch returns a search of the nodes\n",
    "    using a Breadth First Search algorithm '''\n",
    "    \n",
    "    return nodeSearch(startState, goalState, successorsf, True)\n",
    "\n",
    "\n",
    "def depthFirstSearch(startState, goalState, successorsf):\n",
    "    '''\n",
    "    Given a startState, and goalState, and a function to\n",
    "    calculate successors, depthFirstSearch returns a search of the nodes\n",
    "    using a Depth First Search algorithm '''\n",
    "\n",
    "    return nodeSearch(startState, goalState, successorsf, False)\n",
    "\n"
   ]
  },
  {
   "cell_type": "code",
   "execution_count": 18,
   "metadata": {},
   "outputs": [
    {
     "name": "stdout",
     "output_type": "stream",
     "text": [
      "Breadth-first\n",
      "path from a to a is ['a']\n",
      "path from a to m is ['a', 'b', 'g', 'm']\n",
      "path from a to z is ['a', 'd', 'z']\n"
     ]
    }
   ],
   "source": [
    "print('Breadth-first')\n",
    "print('path from a to a is', breadthFirstSearch('a', 'a', successorsf))\n",
    "print('path from a to m is', breadthFirstSearch('a', 'm', successorsf))\n",
    "print('path from a to z is', breadthFirstSearch('a', 'z', successorsf))"
   ]
  },
  {
   "cell_type": "code",
   "execution_count": 19,
   "metadata": {},
   "outputs": [
    {
     "name": "stdout",
     "output_type": "stream",
     "text": [
      "Depth-first\n",
      "path from a to a is ['a']\n",
      "path from a to m is ['a', 'b', 'g', 'm']\n",
      "path from a to z is ['a', 'b', 'e', 'k', 'z']\n"
     ]
    }
   ],
   "source": [
    "print('Depth-first')\n",
    "print('path from a to a is', depthFirstSearch('a', 'a', successorsf))\n",
    "print('path from a to m is', depthFirstSearch('a', 'm', successorsf))\n",
    "print('path from a to z is', depthFirstSearch('a', 'z', successorsf))"
   ]
  },
  {
   "cell_type": "markdown",
   "metadata": {},
   "source": [
    "Let's try a navigation problem around a grid of size 10 x 10."
   ]
  },
  {
   "cell_type": "code",
   "execution_count": 20,
   "metadata": {
    "collapsed": true
   },
   "outputs": [],
   "source": [
    "def gridSuccessors(state):\n",
    "    row, col = state\n",
    "    # succs will be list of tuples () rather than list of lists [] because state must\n",
    "    # be an immutable type to serve as a key in dictionary of expanded nodes\n",
    "    succs = []\n",
    "    for r in [-1, 0, 1]:\n",
    "        for c in [-1, 0, 1]:\n",
    "            newr = row + r\n",
    "            newc = col + c\n",
    "            if 0 <= newr <= 9 and 0 <= newc <= 9:  # cool, huh?\n",
    "                succs.append( (newr, newc) )\n",
    "    return succs"
   ]
  },
  {
   "cell_type": "code",
   "execution_count": 21,
   "metadata": {},
   "outputs": [
    {
     "data": {
      "text/plain": [
       "[(2, 3), (2, 4), (2, 5), (3, 3), (3, 4), (3, 5), (4, 3), (4, 4), (4, 5)]"
      ]
     },
     "execution_count": 21,
     "metadata": {},
     "output_type": "execute_result"
    }
   ],
   "source": [
    "gridSuccessors([3,4])"
   ]
  },
  {
   "cell_type": "code",
   "execution_count": 22,
   "metadata": {},
   "outputs": [
    {
     "data": {
      "text/plain": [
       "[(2, 8), (2, 9), (3, 8), (3, 9), (4, 8), (4, 9)]"
      ]
     },
     "execution_count": 22,
     "metadata": {},
     "output_type": "execute_result"
    }
   ],
   "source": [
    "gridSuccessors([3,9])"
   ]
  },
  {
   "cell_type": "code",
   "execution_count": null,
   "metadata": {
    "collapsed": true
   },
   "outputs": [],
   "source": [
    "gridSuccessors([0,0])"
   ]
  },
  {
   "cell_type": "code",
   "execution_count": 23,
   "metadata": {},
   "outputs": [
    {
     "name": "stdout",
     "output_type": "stream",
     "text": [
      "Breadth-first\n",
      "path from (0, 0) to (9, 9) is [(0, 0), (1, 1), (2, 2), (3, 3), (4, 4), (5, 5), (6, 6), (7, 7), (8, 8)]\n"
     ]
    }
   ],
   "source": [
    "print('Breadth-first')\n",
    "print('path from (0, 0) to (9, 9) is', breadthFirstSearch((0, 0), (8, 8), gridSuccessors))"
   ]
  },
  {
   "cell_type": "code",
   "execution_count": 24,
   "metadata": {},
   "outputs": [
    {
     "name": "stdout",
     "output_type": "stream",
     "text": [
      "Depth-first\n",
      "path from (0, 0) to (9, 9) is [(0, 0), (0, 1), (0, 2), (0, 3), (0, 4), (0, 5), (0, 6), (0, 7), (0, 8), (0, 9), (1, 8), (1, 7), (1, 6), (1, 5), (1, 4), (1, 3), (1, 2), (1, 1), (1, 0), (2, 0), (2, 1), (2, 2), (2, 3), (2, 4), (2, 5), (2, 6), (2, 7), (2, 8), (1, 9), (2, 9), (3, 8), (3, 7), (3, 6), (3, 5), (3, 4), (3, 3), (3, 2), (3, 1), (3, 0), (4, 0), (4, 1), (4, 2), (4, 3), (4, 4), (4, 5), (4, 6), (4, 7), (4, 8), (3, 9), (4, 9), (5, 8), (5, 7), (5, 6), (5, 5), (5, 4), (5, 3), (5, 2), (5, 1), (5, 0), (6, 0), (6, 1), (6, 2), (6, 3), (6, 4), (6, 5), (6, 6), (6, 7), (6, 8), (5, 9), (6, 9), (7, 8), (7, 7), (7, 6), (7, 5), (7, 4), (7, 3), (7, 2), (7, 1), (7, 0), (8, 0), (8, 1), (8, 2), (8, 3), (8, 4), (8, 5), (8, 6), (8, 7), (8, 8), (9, 9)]\n"
     ]
    }
   ],
   "source": [
    "print('Depth-first')\n",
    "print('path from (0, 0) to (9, 9) is', depthFirstSearch((0, 0), (9, 9), gridSuccessors))"
   ]
  },
  {
   "cell_type": "markdown",
   "metadata": {},
   "source": [
    "Oooo, what kind of path is that?  Let's plot it."
   ]
  },
  {
   "cell_type": "code",
   "execution_count": 25,
   "metadata": {
    "collapsed": true
   },
   "outputs": [],
   "source": [
    "import matplotlib.pyplot as plt\n",
    "%matplotlib inline"
   ]
  },
  {
   "cell_type": "code",
   "execution_count": 26,
   "metadata": {},
   "outputs": [
    {
     "data": {
      "text/plain": [
       "[(0, 0),\n",
       " (0, 1),\n",
       " (0, 2),\n",
       " (0, 3),\n",
       " (0, 4),\n",
       " (0, 5),\n",
       " (0, 6),\n",
       " (0, 7),\n",
       " (0, 8),\n",
       " (0, 9),\n",
       " (1, 8),\n",
       " (1, 7),\n",
       " (1, 6),\n",
       " (1, 5),\n",
       " (1, 4),\n",
       " (1, 3),\n",
       " (1, 2),\n",
       " (1, 1),\n",
       " (1, 0),\n",
       " (2, 0),\n",
       " (2, 1),\n",
       " (2, 2),\n",
       " (2, 3),\n",
       " (2, 4),\n",
       " (2, 5),\n",
       " (2, 6),\n",
       " (2, 7),\n",
       " (2, 8),\n",
       " (1, 9),\n",
       " (2, 9),\n",
       " (3, 8),\n",
       " (3, 7),\n",
       " (3, 6),\n",
       " (3, 5),\n",
       " (3, 4),\n",
       " (3, 3),\n",
       " (3, 2),\n",
       " (3, 1),\n",
       " (3, 0),\n",
       " (4, 0),\n",
       " (4, 1),\n",
       " (4, 2),\n",
       " (4, 3),\n",
       " (4, 4),\n",
       " (4, 5),\n",
       " (4, 6),\n",
       " (4, 7),\n",
       " (4, 8),\n",
       " (3, 9),\n",
       " (4, 9),\n",
       " (5, 8),\n",
       " (5, 7),\n",
       " (5, 6),\n",
       " (5, 5),\n",
       " (5, 4),\n",
       " (5, 3),\n",
       " (5, 2),\n",
       " (5, 1),\n",
       " (5, 0),\n",
       " (6, 0),\n",
       " (6, 1),\n",
       " (6, 2),\n",
       " (6, 3),\n",
       " (6, 4),\n",
       " (6, 5),\n",
       " (6, 6),\n",
       " (6, 7),\n",
       " (6, 8),\n",
       " (5, 9),\n",
       " (6, 9),\n",
       " (7, 8),\n",
       " (7, 7),\n",
       " (7, 6),\n",
       " (7, 5),\n",
       " (7, 4),\n",
       " (7, 3),\n",
       " (7, 2),\n",
       " (7, 1),\n",
       " (7, 0),\n",
       " (8, 0),\n",
       " (8, 1),\n",
       " (8, 2),\n",
       " (8, 3),\n",
       " (8, 4),\n",
       " (8, 5),\n",
       " (8, 6),\n",
       " (8, 7),\n",
       " (8, 8),\n",
       " (9, 9)]"
      ]
     },
     "execution_count": 26,
     "metadata": {},
     "output_type": "execute_result"
    }
   ],
   "source": [
    "path = depthFirstSearch((0, 0), (9, 9), gridSuccessors)\n",
    "path"
   ]
  },
  {
   "cell_type": "code",
   "execution_count": 27,
   "metadata": {
    "scrolled": true
   },
   "outputs": [
    {
     "data": {
      "image/png": "[encoded data removed]",
      "text/plain": [
       "<matplotlib.figure.Figure at 0x106b730f0>"
      ]
     },
     "metadata": {},
     "output_type": "display_data"
    }
   ],
   "source": [
    "rows = [location[0] for location in path]\n",
    "cols = [location[1] for location in path]\n",
    "plt.plot(rows,cols,'o-');"
   ]
  },
  {
   "cell_type": "code",
   "execution_count": 28,
   "metadata": {},
   "outputs": [
    {
     "data": {
      "text/plain": [
       "[(0, 0),\n",
       " (1, 1),\n",
       " (2, 2),\n",
       " (3, 3),\n",
       " (4, 4),\n",
       " (5, 5),\n",
       " (6, 6),\n",
       " (7, 7),\n",
       " (8, 8),\n",
       " (9, 9)]"
      ]
     },
     "execution_count": 28,
     "metadata": {},
     "output_type": "execute_result"
    }
   ],
   "source": [
    "path = breadthFirstSearch((0, 0), (9, 9), gridSuccessors)\n",
    "path"
   ]
  },
  {
   "cell_type": "code",
   "execution_count": 29,
   "metadata": {},
   "outputs": [
    {
     "data": {
      "image/png": "[encoded data removed]",
      "text/plain": [
       "<matplotlib.figure.Figure at 0x106c41a20>"
      ]
     },
     "metadata": {},
     "output_type": "display_data"
    }
   ],
   "source": [
    "rows = [location[0] for location in path]\n",
    "cols = [location[1] for location in path]\n",
    "plt.plot(rows,cols,'o-');"
   ]
  },
  {
   "cell_type": "code",
   "execution_count": null,
   "metadata": {
    "collapsed": true
   },
   "outputs": [],
   "source": [
    "depthFirstSearch((0, 0), (9, 20), gridSuccessors)"
   ]
  },
  {
   "cell_type": "markdown",
   "metadata": {},
   "source": [
    "## Grading\n",
    "\n",
    "Your notebook will be run and graded automatically. Download [A1grader.tar](http://www.cs.colostate.edu/~anderson/cs440/notebooks/A1grader.tar)  and extract A1grader.py from it. Run the code in the following cell to demonstrate an example grading session. You should see a perfect score of 80/100 if your functions are defined correctly. \n",
    "\n",
    "The remaining 20% will be based on your writing.  In markdown cells, explain what your functions are doing and summarize the algorithms.\n",
    "\n",
    "Add at least one markdown cell that describes problems you encountered in trying to solve this assignment."
   ]
  },
  {
   "cell_type": "code",
   "execution_count": 30,
   "metadata": {},
   "outputs": [
    {
     "name": "stdout",
     "output_type": "stream",
     "text": [
      "Searching this graph:\n",
      " {'a': ['b'], 'b': ['c', 'd'], 'c': ['e'], 'd': ['f', 'i'], 'e': ['g', 'h', 'i']}\n",
      "Looking for path from a to b.\n",
      "20/20 points. Your breadthFirstSearch found correct solution path of ['a', 'b']\n",
      "20/20 points. Your depthFirstSearch found correct solution path of ['a', 'b']\n",
      "Looking for path from a to i.\n",
      "20/20 points. Your breadthFirstSearch found correct solution path of ['a', 'b', 'd', 'i']\n",
      "20/20 points. Your depthFirstSearch found correct solution path of ['a', 'b', 'c', 'e', 'i']\n",
      "\n",
      "A1 Grade is 80/100\n",
      "Up to 20 more points will be given based on the qualty of your descriptions of the method and the results.\n"
     ]
    }
   ],
   "source": [
    "# Delete all variables defined so far (in notebook)\n",
    "for name in dir():\n",
    "    if not callable(globals()[name]) and not name.startswith('_'):\n",
    "        del globals()[name]\n",
    "\n",
    "# import numpy as np\n",
    "import os\n",
    "import copy\n",
    "\n",
    "# import A1mysolution as mine\n",
    "# import imp\n",
    "# imp.reload(mine)\n",
    "# breadthFirstSearch = mine.breadthFirstSearch\n",
    "# depthFirstSearch = mine.depthFirstSearch\n",
    "\n",
    "# trainValidateTestKFolds = mine.trainValidateTestKFolds\n",
    "# trainLinear = mine.trainLinear\n",
    "# evaluateLinear = mine.evaluateLinear\n",
    "# trainNN = mine.trainNN\n",
    "# evaluateNN = mine.evaluateNN\n",
    "\n",
    "# import neuralnetworks as nn\n",
    "\n",
    "# def within(correct, attempt, diff):\n",
    "#     return np.abs((correct-attempt) / correct)  < diff\n",
    "\n",
    "g = 0\n",
    "\n",
    "for func in ['breadthFirstSearch', 'depthFirstSearch']:\n",
    "    if func not in dir() or not callable(globals()[func]):\n",
    "        print('CRITICAL ERROR: Function named \\'{}\\' is not defined'.format(func))\n",
    "        print('  Check the spelling and capitalization of the function name.')\n",
    "\n",
    "def chuck1():\n",
    "    global g\n",
    "\n",
    "    succs = {'a': ['b'], 'b':['c', 'd'], 'c':['e'], 'd':['f', 'i'], 'e':['g', 'h', 'i']}\n",
    "    print('Searching this graph:\\n', succs)\n",
    "    def succsf(s):\n",
    "        return copy.copy(succs.get(s,[]))\n",
    "\n",
    "    print('Looking for path from a to b.')\n",
    "    bfsCorrect = ['a', 'b']\n",
    "    dfsCorrect = ['a', 'b']\n",
    "    bfs = breadthFirstSearch('a', 'b', succsf)\n",
    "    dfs = depthFirstSearch('a', 'b', succsf)\n",
    "    \n",
    "    if bfs == bfsCorrect:\n",
    "        g += 20\n",
    "        print('20/20 points. Your breadthFirstSearch found correct solution path of',bfs)\n",
    "    else:\n",
    "        print(' 0/20 points. Your breadthFirstSearch did not find correct solution path of',bfsCorrect)\n",
    "\n",
    "    if dfs == dfsCorrect:\n",
    "        g += 20\n",
    "        print('20/20 points. Your depthFirstSearch found correct solution path of',dfs)\n",
    "    else:\n",
    "        print(' 0/20 points. Your depthFirstSearch did not find correct solution path of',dfsCorrect)\n",
    "\n",
    "    print('Looking for path from a to i.')\n",
    "    bfsCorrect = ['a', 'b', 'd', 'i']\n",
    "    dfsCorrect = ['a', 'b', 'c', 'e', 'i']\n",
    "    bfs = breadthFirstSearch('a', 'i', succsf)\n",
    "    dfs = depthFirstSearch('a', 'i', succsf)\n",
    "    if bfs == bfsCorrect:\n",
    "        g += 20\n",
    "        print('20/20 points. Your breadthFirstSearch found correct solution path of',bfs)\n",
    "    else:\n",
    "        print(' 0/20 points. Your breadthFirstSearch did not find correct solution path of',bfsCorrect)\n",
    "    if dfs == dfsCorrect:\n",
    "        g += 20\n",
    "        print('20/20 points. Your depthFirstSearch found correct solution path of',dfs)\n",
    "    else:\n",
    "        print(' 0/20 points. Your depthFirstSearch did not find correct solution path of',dfsCorrect)\n",
    "\n",
    "chuck1()\n",
    "\n",
    "print('\\n{} Grade is {}/100'.format(os.getcwd().split('/')[-1], g))\n",
    "print('Up to 20 more points will be given based on the qualty of your descriptions of the method and the results.')\n"
   ]
  },
  {
   "cell_type": "code",
   "execution_count": null,
   "metadata": {
    "collapsed": true
   },
   "outputs": [],
   "source": [
    "%run -i A1grader.py"
   ]
  },
  {
   "cell_type": "code",
   "execution_count": null,
   "metadata": {
    "collapsed": true
   },
   "outputs": [],
   "source": []
  }
 ],
 "metadata": {
  "anaconda-cloud": {},
  "kernelspec": {
   "display_name": "Python 3",
   "language": "python",
   "name": "python3"
  },
  "language_info": {
   "codemirror_mode": {
    "name": "ipython",
    "version": 3
   },
   "file_extension": ".py",
   "mimetype": "text/x-python",
   "name": "python",
   "nbconvert_exporter": "python",
   "pygments_lexer": "ipython3",
   "version": "3.6.2"
  }
 },
 "nbformat": 4,
 "nbformat_minor": 1
}
