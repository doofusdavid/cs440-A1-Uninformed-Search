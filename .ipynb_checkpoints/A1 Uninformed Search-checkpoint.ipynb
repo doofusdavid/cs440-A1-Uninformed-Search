{
 "cells": [
  {
   "cell_type": "markdown",
   "metadata": {},
   "source": [
    "# Assignment 1: Uninformed Search"
   ]
  },
  {
   "cell_type": "markdown",
   "metadata": {},
   "source": [
    "David Edwards"
   ]
  },
  {
   "cell_type": "markdown",
   "metadata": {},
   "source": [
    "## Overview"
   ]
  },
  {
   "cell_type": "markdown",
   "metadata": {},
   "source": [
    "Breadth-first and depth-first are two algorithms for performing\n",
    "uninformed search---a search that does not use\n",
    "knowledge about the goal of the search.  You will implement both\n",
    "search algorithms in python and test them on a simple graph."
   ]
  },
  {
   "cell_type": "markdown",
   "metadata": {},
   "source": [
    "## Required Code"
   ]
  },
  {
   "cell_type": "markdown",
   "metadata": {},
   "source": [
    "In this jupyter notebook, you must implement at least the following functions:\n",
    "\n",
    "  * `breadthFirstSearch(startState, goalState, successorsf)` \n",
    "  * `depthFirstSearch(startState, goalState, successorsf)`\n",
    "  \n",
    "Each receives as arguments the starting state, the goal state, and a successors function.  `breadthFirstSearch` returns the breadth-first solution path as a list of states starting with the `startState` and ending with the `goalState`.  `depthFirstSearch` returns the depth-first solution path.\n",
    "\n",
    "<font color=\"red\">You must</font> implement the search algorithm as specified in [A3 Problem-Solving Agents](http://nbviewer.jupyter.org/url/www.cs.colostate.edu/~anderson/cs440/notebooks/03 Problem-Solving Agents.ipynb) lecture notes."
   ]
  },
  {
   "cell_type": "markdown",
   "metadata": {},
   "source": [
    "If you prefer to develop your python code in a separate editor or IDE, you may do so.  If it is stored in a file called `A1mysolution.py`, you can use it here by executing the following cell.\n",
    "\n",
    "When your solution works, <font color=\"red\">Remember</font> to remove or comment out the following import statement and instead, paste in all of your function definintions into this notebook."
   ]
  },
  {
   "cell_type": "code",
   "execution_count": 1,
   "metadata": {
    "collapsed": true
   },
   "outputs": [],
   "source": [
    "# from A1mysolution import * "
   ]
  },
  {
   "cell_type": "markdown",
   "metadata": {},
   "source": [
    "# Example"
   ]
  },
  {
   "cell_type": "markdown",
   "metadata": {},
   "source": [
    "Here is a simple example.  States are defined by lower case letters.  A dictionary stores a list of successor states for each state in the graph that has successors."
   ]
  },
  {
   "cell_type": "code",
   "execution_count": 2,
   "metadata": {},
   "outputs": [
    {
     "data": {
      "text/plain": [
       "{'a': ['b', 'c', 'd'],\n",
       " 'b': ['e', 'f', 'g'],\n",
       " 'c': ['a', 'h', 'i'],\n",
       " 'd': ['j', 'z'],\n",
       " 'e': ['k', 'l'],\n",
       " 'g': ['m'],\n",
       " 'k': ['z']}"
      ]
     },
     "execution_count": 2,
     "metadata": {},
     "output_type": "execute_result"
    }
   ],
   "source": [
    "successors = {'a':  ['b', 'c', 'd'],\n",
    "              'b':  ['e', 'f', 'g'],\n",
    "              'c':  ['a', 'h', 'i'],\n",
    "              'd':  ['j', 'z'],\n",
    "              'e':  ['k', 'l'],\n",
    "              'g':  ['m'],\n",
    "              'k':  ['z']}\n",
    "successors"
   ]
  },
  {
   "cell_type": "code",
   "execution_count": 3,
   "metadata": {
    "collapsed": true
   },
   "outputs": [],
   "source": [
    "import copy\n",
    "\n",
    "def successorsf(state):\n",
    "    return copy.copy(successors.get(state, []))"
   ]
  },
  {
   "cell_type": "code",
   "execution_count": 5,
   "metadata": {},
   "outputs": [
    {
     "data": {
      "text/plain": [
       "['k', 'l']"
      ]
     },
     "execution_count": 5,
     "metadata": {},
     "output_type": "execute_result"
    }
   ],
   "source": [
    "successorsf('e')"
   ]
  },
  {
   "cell_type": "code",
   "execution_count": 48,
   "metadata": {},
   "outputs": [
    {
     "name": "stdout",
     "output_type": "stream",
     "text": [
      "expanded {'a': None, 'b': 'a', 'e': 'b', 'k': 'e', 'z': 'k', 'l': 'e', 'f': 'b', 'g': 'b'}\n"
     ]
    },
    {
     "ename": "KeyError",
     "evalue": "'b'",
     "output_type": "error",
     "traceback": [
      "\u001b[0;31m---------------------------------------------------------------------------\u001b[0m",
      "\u001b[0;31mKeyError\u001b[0m                                  Traceback (most recent call last)",
      "\u001b[0;32m<ipython-input-48-dd700f2890bd>\u001b[0m in \u001b[0;36m<module>\u001b[0;34m()\u001b[0m\n\u001b[1;32m     51\u001b[0m     \u001b[0;32mreturn\u001b[0m \u001b[0mnodeSearch\u001b[0m\u001b[0;34m(\u001b[0m\u001b[0mstartState\u001b[0m\u001b[0;34m,\u001b[0m \u001b[0mgoalState\u001b[0m\u001b[0;34m,\u001b[0m \u001b[0msuccessorsf\u001b[0m\u001b[0;34m,\u001b[0m \u001b[0;32mFalse\u001b[0m\u001b[0;34m)\u001b[0m\u001b[0;34m\u001b[0m\u001b[0m\n\u001b[1;32m     52\u001b[0m \u001b[0;34m\u001b[0m\u001b[0m\n\u001b[0;32m---> 53\u001b[0;31m \u001b[0mprint\u001b[0m\u001b[0;34m(\u001b[0m\u001b[0mbreadthFirstSearch\u001b[0m\u001b[0;34m(\u001b[0m\u001b[0;34m'a'\u001b[0m\u001b[0;34m,\u001b[0m \u001b[0;34m'm'\u001b[0m\u001b[0;34m,\u001b[0m \u001b[0msuccessorsf\u001b[0m\u001b[0;34m)\u001b[0m\u001b[0;34m)\u001b[0m\u001b[0;34m\u001b[0m\u001b[0m\n\u001b[0m\u001b[1;32m     54\u001b[0m \u001b[0;34m\u001b[0m\u001b[0m\n\u001b[1;32m     55\u001b[0m \u001b[0;34m\u001b[0m\u001b[0m\n",
      "\u001b[0;32m<ipython-input-48-dd700f2890bd>\u001b[0m in \u001b[0;36mbreadthFirstSearch\u001b[0;34m(startState, goalState, sucessorsf)\u001b[0m\n\u001b[1;32m     46\u001b[0m \u001b[0;34m\u001b[0m\u001b[0m\n\u001b[1;32m     47\u001b[0m \u001b[0;32mdef\u001b[0m \u001b[0mbreadthFirstSearch\u001b[0m\u001b[0;34m(\u001b[0m\u001b[0mstartState\u001b[0m\u001b[0;34m,\u001b[0m \u001b[0mgoalState\u001b[0m\u001b[0;34m,\u001b[0m \u001b[0msucessorsf\u001b[0m\u001b[0;34m)\u001b[0m\u001b[0;34m:\u001b[0m\u001b[0;34m\u001b[0m\u001b[0m\n\u001b[0;32m---> 48\u001b[0;31m     \u001b[0;32mreturn\u001b[0m \u001b[0mnodeSearch\u001b[0m\u001b[0;34m(\u001b[0m\u001b[0mstartState\u001b[0m\u001b[0;34m,\u001b[0m \u001b[0mgoalState\u001b[0m\u001b[0;34m,\u001b[0m \u001b[0msuccessorsf\u001b[0m\u001b[0;34m,\u001b[0m \u001b[0;32mTrue\u001b[0m\u001b[0;34m)\u001b[0m\u001b[0;34m\u001b[0m\u001b[0m\n\u001b[0m\u001b[1;32m     49\u001b[0m \u001b[0;34m\u001b[0m\u001b[0m\n\u001b[1;32m     50\u001b[0m \u001b[0;32mdef\u001b[0m \u001b[0mdepthFirstSearch\u001b[0m\u001b[0;34m(\u001b[0m\u001b[0mstartState\u001b[0m\u001b[0;34m,\u001b[0m \u001b[0mgoalState\u001b[0m\u001b[0;34m,\u001b[0m \u001b[0msuccessorsf\u001b[0m\u001b[0;34m)\u001b[0m\u001b[0;34m:\u001b[0m\u001b[0;34m\u001b[0m\u001b[0m\n",
      "\u001b[0;32m<ipython-input-48-dd700f2890bd>\u001b[0m in \u001b[0;36mnodeSearch\u001b[0;34m(startState, goalState, successorsf, breadthFirst)\u001b[0m\n\u001b[1;32m     31\u001b[0m             \u001b[0;32mwhile\u001b[0m \u001b[0mexpanded\u001b[0m\u001b[0;34m:\u001b[0m\u001b[0;34m\u001b[0m\u001b[0m\n\u001b[1;32m     32\u001b[0m                 \u001b[0msolutionPath\u001b[0m\u001b[0;34m.\u001b[0m\u001b[0minsert\u001b[0m\u001b[0;34m(\u001b[0m\u001b[0;36m0\u001b[0m\u001b[0;34m,\u001b[0m\u001b[0mparent\u001b[0m\u001b[0;34m)\u001b[0m\u001b[0;34m\u001b[0m\u001b[0m\n\u001b[0;32m---> 33\u001b[0;31m                 \u001b[0mexpanded\u001b[0m\u001b[0;34m.\u001b[0m\u001b[0mpop\u001b[0m\u001b[0;34m(\u001b[0m\u001b[0mparent\u001b[0m\u001b[0;34m)\u001b[0m\u001b[0;34m\u001b[0m\u001b[0m\n\u001b[0m\u001b[1;32m     34\u001b[0m \u001b[0;34m\u001b[0m\u001b[0m\n\u001b[1;32m     35\u001b[0m             \u001b[0;32mreturn\u001b[0m \u001b[0msolutionPath\u001b[0m\u001b[0;34m\u001b[0m\u001b[0m\n",
      "\u001b[0;31mKeyError\u001b[0m: 'b'"
     ]
    }
   ],
   "source": [
    "def nodeSearch(startState, goalState, successorsf, breadthFirst):\n",
    "    '''\n",
    "    Given a startState, and goalState, and a function to \n",
    "    calculate successors, will return a breadthFirstSearch'''\n",
    "    # Intialize expanded to be empty dictionary\n",
    "    expanded = {}\n",
    "    # Initialize unExpanded to be list containing (startState, None)\n",
    "    unExpanded = [(startState, None)]\n",
    "    \n",
    "    if(startState == goalState):\n",
    "        return [startState]\n",
    "    \n",
    "    while unExpanded:\n",
    "        # pop from the end of unExpanded\n",
    "        state = unExpanded.pop()\n",
    "\n",
    "        # generate children of state using successors function\n",
    "        children = successorsf(state[0])\n",
    "        \n",
    "        # Add state: parent to the expanded dictionary\n",
    "        parent = state[1]\n",
    "        expanded[state[0]] = parent\n",
    "        \n",
    "        # For efficiency, remove from children any states already in expanded or unExpanded\n",
    "        \n",
    "        if goalState in children:\n",
    "            solutionPath = [state[0], goalState]\n",
    "            print(\"expanded\", expanded)\n",
    "            expanded.pop(state[0])\n",
    "            \n",
    "            while expanded:\n",
    "                solutionPath.insert(0,parent)\n",
    "                expanded.pop(parent)\n",
    "            \n",
    "            return solutionPath\n",
    "         \n",
    "        children.sort(reverse = True)\n",
    "        childTuples = [(c,p) for c in children for p in [state[0]]]\n",
    "\n",
    "        if(breadthFirst):\n",
    "            unExpanded = unExpanded + childTuples\n",
    "        else:\n",
    "            unExpanded.append(childTuples)\n",
    "            \n",
    "            \n",
    "    \n",
    "def breadthFirstSearch(startState, goalState, sucessorsf):\n",
    "    return nodeSearch(startState, goalState, successorsf, True)\n",
    "\n",
    "def depthFirstSearch(startState, goalState, successorsf):\n",
    "    return nodeSearch(startState, goalState, successorsf, False)\n",
    "\n",
    "print(breadthFirstSearch('a', 'm', successorsf))\n",
    "\n",
    "\n"
   ]
  },
  {
   "cell_type": "code",
   "execution_count": 45,
   "metadata": {},
   "outputs": [
    {
     "name": "stdout",
     "output_type": "stream",
     "text": [
      "Breadth-first\n",
      "path from a to a is ['a']\n",
      "state:  ('a', None) unexpandedpostpop: []\n",
      "current node: a children: ['b', 'c', 'd']\n",
      "expanded: {'a': None}\n",
      "reverse-children ['d', 'c', 'b'] parent a\n",
      "unexpanded [('d', 'a'), ('c', 'a'), ('b', 'a')]\n",
      "state:  ('b', 'a') unexpandedpostpop: [('d', 'a'), ('c', 'a')]\n",
      "current node: b children: ['e', 'f', 'g']\n",
      "expanded: {'a': None, 'b': 'a'}\n",
      "reverse-children ['g', 'f', 'e'] parent b\n",
      "unexpanded [('d', 'a'), ('c', 'a'), ('g', 'b'), ('f', 'b'), ('e', 'b')]\n",
      "state:  ('e', 'b') unexpandedpostpop: [('d', 'a'), ('c', 'a'), ('g', 'b'), ('f', 'b')]\n",
      "current node: e children: ['k', 'l']\n",
      "expanded: {'a': None, 'b': 'a', 'e': 'b'}\n",
      "reverse-children ['l', 'k'] parent e\n",
      "unexpanded [('d', 'a'), ('c', 'a'), ('g', 'b'), ('f', 'b'), ('l', 'e'), ('k', 'e')]\n",
      "state:  ('k', 'e') unexpandedpostpop: [('d', 'a'), ('c', 'a'), ('g', 'b'), ('f', 'b'), ('l', 'e')]\n",
      "current node: k children: ['z']\n",
      "expanded: {'a': None, 'b': 'a', 'e': 'b', 'k': 'e'}\n",
      "reverse-children ['z'] parent k\n",
      "unexpanded [('d', 'a'), ('c', 'a'), ('g', 'b'), ('f', 'b'), ('l', 'e'), ('z', 'k')]\n",
      "state:  ('z', 'k') unexpandedpostpop: [('d', 'a'), ('c', 'a'), ('g', 'b'), ('f', 'b'), ('l', 'e')]\n",
      "current node: z children: []\n",
      "expanded: {'a': None, 'b': 'a', 'e': 'b', 'k': 'e', 'z': 'k'}\n",
      "reverse-children [] parent z\n",
      "unexpanded [('d', 'a'), ('c', 'a'), ('g', 'b'), ('f', 'b'), ('l', 'e')]\n",
      "state:  ('l', 'e') unexpandedpostpop: [('d', 'a'), ('c', 'a'), ('g', 'b'), ('f', 'b')]\n",
      "current node: l children: []\n",
      "expanded: {'a': None, 'b': 'a', 'e': 'b', 'k': 'e', 'z': 'k', 'l': 'e'}\n",
      "reverse-children [] parent l\n",
      "unexpanded [('d', 'a'), ('c', 'a'), ('g', 'b'), ('f', 'b')]\n",
      "state:  ('f', 'b') unexpandedpostpop: [('d', 'a'), ('c', 'a'), ('g', 'b')]\n",
      "current node: f children: []\n",
      "expanded: {'a': None, 'b': 'a', 'e': 'b', 'k': 'e', 'z': 'k', 'l': 'e', 'f': 'b'}\n",
      "reverse-children [] parent f\n",
      "unexpanded [('d', 'a'), ('c', 'a'), ('g', 'b')]\n",
      "state:  ('g', 'b') unexpandedpostpop: [('d', 'a'), ('c', 'a')]\n",
      "current node: g children: ['m']\n",
      "expanded: {'a': None, 'b': 'a', 'e': 'b', 'k': 'e', 'z': 'k', 'l': 'e', 'f': 'b', 'g': 'b'}\n",
      "solution path: ['g', 'm']\n",
      "solutionPath: ['g', 'm'] parent b expanded: {'a': None, 'b': 'a', 'e': 'b', 'k': 'e', 'z': 'k', 'l': 'e', 'f': 'b'}\n",
      "solutionPath: ['b', 'g', 'm'] parent b expanded: {'a': None, 'e': 'b', 'k': 'e', 'z': 'k', 'l': 'e', 'f': 'b'}\n"
     ]
    },
    {
     "ename": "KeyError",
     "evalue": "'b'",
     "output_type": "error",
     "traceback": [
      "\u001b[0;31m---------------------------------------------------------------------------\u001b[0m",
      "\u001b[0;31mKeyError\u001b[0m                                  Traceback (most recent call last)",
      "\u001b[0;32m<ipython-input-45-ffe08f4b269f>\u001b[0m in \u001b[0;36m<module>\u001b[0;34m()\u001b[0m\n\u001b[1;32m      1\u001b[0m \u001b[0mprint\u001b[0m\u001b[0;34m(\u001b[0m\u001b[0;34m'Breadth-first'\u001b[0m\u001b[0;34m)\u001b[0m\u001b[0;34m\u001b[0m\u001b[0m\n\u001b[1;32m      2\u001b[0m \u001b[0mprint\u001b[0m\u001b[0;34m(\u001b[0m\u001b[0;34m'path from a to a is'\u001b[0m\u001b[0;34m,\u001b[0m \u001b[0mbreadthFirstSearch\u001b[0m\u001b[0;34m(\u001b[0m\u001b[0;34m'a'\u001b[0m\u001b[0;34m,\u001b[0m \u001b[0;34m'a'\u001b[0m\u001b[0;34m,\u001b[0m \u001b[0msuccessorsf\u001b[0m\u001b[0;34m)\u001b[0m\u001b[0;34m)\u001b[0m\u001b[0;34m\u001b[0m\u001b[0m\n\u001b[0;32m----> 3\u001b[0;31m \u001b[0mprint\u001b[0m\u001b[0;34m(\u001b[0m\u001b[0;34m'path from a to m is'\u001b[0m\u001b[0;34m,\u001b[0m \u001b[0mbreadthFirstSearch\u001b[0m\u001b[0;34m(\u001b[0m\u001b[0;34m'a'\u001b[0m\u001b[0;34m,\u001b[0m \u001b[0;34m'm'\u001b[0m\u001b[0;34m,\u001b[0m \u001b[0msuccessorsf\u001b[0m\u001b[0;34m)\u001b[0m\u001b[0;34m)\u001b[0m\u001b[0;34m\u001b[0m\u001b[0m\n\u001b[0m\u001b[1;32m      4\u001b[0m \u001b[0mprint\u001b[0m\u001b[0;34m(\u001b[0m\u001b[0;34m'path from a to z is'\u001b[0m\u001b[0;34m,\u001b[0m \u001b[0mbreadthFirstSearch\u001b[0m\u001b[0;34m(\u001b[0m\u001b[0;34m'a'\u001b[0m\u001b[0;34m,\u001b[0m \u001b[0;34m'z'\u001b[0m\u001b[0;34m,\u001b[0m \u001b[0msuccessorsf\u001b[0m\u001b[0;34m)\u001b[0m\u001b[0;34m)\u001b[0m\u001b[0;34m\u001b[0m\u001b[0m\n",
      "\u001b[0;32m<ipython-input-44-7ea4d283e4b7>\u001b[0m in \u001b[0;36mbreadthFirstSearch\u001b[0;34m(startState, goalState, sucessorsf)\u001b[0m\n\u001b[1;32m     49\u001b[0m \u001b[0;34m\u001b[0m\u001b[0m\n\u001b[1;32m     50\u001b[0m \u001b[0;32mdef\u001b[0m \u001b[0mbreadthFirstSearch\u001b[0m\u001b[0;34m(\u001b[0m\u001b[0mstartState\u001b[0m\u001b[0;34m,\u001b[0m \u001b[0mgoalState\u001b[0m\u001b[0;34m,\u001b[0m \u001b[0msucessorsf\u001b[0m\u001b[0;34m)\u001b[0m\u001b[0;34m:\u001b[0m\u001b[0;34m\u001b[0m\u001b[0m\n\u001b[0;32m---> 51\u001b[0;31m     \u001b[0;32mreturn\u001b[0m \u001b[0mnodeSearch\u001b[0m\u001b[0;34m(\u001b[0m\u001b[0mstartState\u001b[0m\u001b[0;34m,\u001b[0m \u001b[0mgoalState\u001b[0m\u001b[0;34m,\u001b[0m \u001b[0msuccessorsf\u001b[0m\u001b[0;34m,\u001b[0m \u001b[0;32mTrue\u001b[0m\u001b[0;34m)\u001b[0m\u001b[0;34m\u001b[0m\u001b[0m\n\u001b[0m\u001b[1;32m     52\u001b[0m \u001b[0;34m\u001b[0m\u001b[0m\n\u001b[1;32m     53\u001b[0m \u001b[0;32mdef\u001b[0m \u001b[0mdepthFirstSearch\u001b[0m\u001b[0;34m(\u001b[0m\u001b[0mstartState\u001b[0m\u001b[0;34m,\u001b[0m \u001b[0mgoalState\u001b[0m\u001b[0;34m,\u001b[0m \u001b[0msuccessorsf\u001b[0m\u001b[0;34m)\u001b[0m\u001b[0;34m:\u001b[0m\u001b[0;34m\u001b[0m\u001b[0m\n",
      "\u001b[0;32m<ipython-input-44-7ea4d283e4b7>\u001b[0m in \u001b[0;36mnodeSearch\u001b[0;34m(startState, goalState, successorsf, breadthFirst)\u001b[0m\n\u001b[1;32m     32\u001b[0m                 \u001b[0mprint\u001b[0m\u001b[0;34m(\u001b[0m\u001b[0;34m\"solutionPath:\"\u001b[0m\u001b[0;34m,\u001b[0m \u001b[0msolutionPath\u001b[0m\u001b[0;34m,\u001b[0m\u001b[0;34m\"parent\"\u001b[0m\u001b[0;34m,\u001b[0m\u001b[0mparent\u001b[0m\u001b[0;34m,\u001b[0m \u001b[0;34m\"expanded:\"\u001b[0m\u001b[0;34m,\u001b[0m \u001b[0mexpanded\u001b[0m\u001b[0;34m)\u001b[0m\u001b[0;34m\u001b[0m\u001b[0m\n\u001b[1;32m     33\u001b[0m                 \u001b[0msolutionPath\u001b[0m\u001b[0;34m.\u001b[0m\u001b[0minsert\u001b[0m\u001b[0;34m(\u001b[0m\u001b[0;36m0\u001b[0m\u001b[0;34m,\u001b[0m\u001b[0mparent\u001b[0m\u001b[0;34m)\u001b[0m\u001b[0;34m\u001b[0m\u001b[0m\n\u001b[0;32m---> 34\u001b[0;31m                 \u001b[0mexpanded\u001b[0m\u001b[0;34m.\u001b[0m\u001b[0mpop\u001b[0m\u001b[0;34m(\u001b[0m\u001b[0mparent\u001b[0m\u001b[0;34m)\u001b[0m\u001b[0;34m\u001b[0m\u001b[0m\n\u001b[0m\u001b[1;32m     35\u001b[0m \u001b[0;34m\u001b[0m\u001b[0m\n\u001b[1;32m     36\u001b[0m             \u001b[0;32mreturn\u001b[0m \u001b[0msolutionPath\u001b[0m\u001b[0;34m\u001b[0m\u001b[0m\n",
      "\u001b[0;31mKeyError\u001b[0m: 'b'"
     ]
    }
   ],
   "source": [
    "print('Breadth-first')\n",
    "print('path from a to a is', breadthFirstSearch('a', 'a', successorsf))\n",
    "print('path from a to m is', breadthFirstSearch('a', 'm', successorsf))\n",
    "print('path from a to z is', breadthFirstSearch('a', 'z', successorsf))"
   ]
  },
  {
   "cell_type": "code",
   "execution_count": 6,
   "metadata": {},
   "outputs": [
    {
     "name": "stdout",
     "output_type": "stream",
     "text": [
      "Depth-first\n",
      "path from a to a is ['a']\n",
      "path from a to m is ['a', 'b', 'g', 'm']\n",
      "path from a to z is ['a', 'b', 'e', 'k', 'z']\n"
     ]
    }
   ],
   "source": [
    "print('Depth-first')\n",
    "print('path from a to a is', depthFirstSearch('a', 'a', successorsf))\n",
    "print('path from a to m is', depthFirstSearch('a', 'm', successorsf))\n",
    "print('path from a to z is', depthFirstSearch('a', 'z', successorsf))"
   ]
  },
  {
   "cell_type": "markdown",
   "metadata": {},
   "source": [
    "# Extra Credit\n",
    "\n",
    "For extra credit, use your functions to solve the Camels Puzzle, described at [Logic Puzzles](http://www.folj.com/puzzles/).\n",
    "The following code illustrates one possible state representation and shows results of a breadth-first and a dept-first search.  You must define a new successors function, called `camelSuccessorsf`. "
   ]
  },
  {
   "cell_type": "code",
   "execution_count": 7,
   "metadata": {},
   "outputs": [
    {
     "data": {
      "text/plain": [
       "('R', 'R', 'R', 'R', ' ', 'L', 'L', 'L', 'L')"
      ]
     },
     "execution_count": 7,
     "metadata": {},
     "output_type": "execute_result"
    }
   ],
   "source": [
    "camelStartState"
   ]
  },
  {
   "cell_type": "code",
   "execution_count": 8,
   "metadata": {},
   "outputs": [
    {
     "data": {
      "text/plain": [
       "('L', 'L', 'L', 'L', ' ', 'R', 'R', 'R', 'R')"
      ]
     },
     "execution_count": 8,
     "metadata": {},
     "output_type": "execute_result"
    }
   ],
   "source": [
    "camelGoalState"
   ]
  },
  {
   "cell_type": "code",
   "execution_count": 9,
   "metadata": {},
   "outputs": [
    {
     "data": {
      "text/plain": [
       "[('R', 'R', 'R', ' ', 'R', 'L', 'L', 'L', 'L'),\n",
       " ('R', 'R', 'R', 'R', 'L', ' ', 'L', 'L', 'L')]"
      ]
     },
     "execution_count": 9,
     "metadata": {},
     "output_type": "execute_result"
    }
   ],
   "source": [
    "camelSuccessorsf(camelStartState)"
   ]
  },
  {
   "cell_type": "code",
   "execution_count": 10,
   "metadata": {},
   "outputs": [
    {
     "name": "stdout",
     "output_type": "stream",
     "text": [
      "('R', 'R', 'R', ' ', 'R', 'L', 'L', 'L', 'L')\n"
     ]
    },
    {
     "data": {
      "text/plain": [
       "[('R', 'R', ' ', 'R', 'R', 'L', 'L', 'L', 'L'),\n",
       " ('R', 'R', 'R', 'L', 'R', ' ', 'L', 'L', 'L')]"
      ]
     },
     "execution_count": 10,
     "metadata": {},
     "output_type": "execute_result"
    }
   ],
   "source": [
    "children = camelSuccessorsf(camelStartState)\n",
    "print(children[0])\n",
    "camelSuccessorsf(children[0])"
   ]
  },
  {
   "cell_type": "code",
   "execution_count": 11,
   "metadata": {},
   "outputs": [
    {
     "name": "stdout",
     "output_type": "stream",
     "text": [
      "Breadth-first solution: ( 25 steps)\n",
      "('R', 'R', 'R', 'R', ' ', 'L', 'L', 'L', 'L')\n",
      "('R', 'R', 'R', ' ', 'R', 'L', 'L', 'L', 'L')\n",
      "('R', 'R', 'R', 'L', 'R', ' ', 'L', 'L', 'L')\n",
      "('R', 'R', 'R', 'L', 'R', 'L', ' ', 'L', 'L')\n",
      "('R', 'R', 'R', 'L', ' ', 'L', 'R', 'L', 'L')\n",
      "('R', 'R', ' ', 'L', 'R', 'L', 'R', 'L', 'L')\n",
      "('R', ' ', 'R', 'L', 'R', 'L', 'R', 'L', 'L')\n",
      "('R', 'L', 'R', ' ', 'R', 'L', 'R', 'L', 'L')\n",
      "('R', 'L', 'R', 'L', 'R', ' ', 'R', 'L', 'L')\n",
      "('R', 'L', 'R', 'L', 'R', 'L', 'R', ' ', 'L')\n",
      "('R', 'L', 'R', 'L', 'R', 'L', 'R', 'L', ' ')\n",
      "('R', 'L', 'R', 'L', 'R', 'L', ' ', 'L', 'R')\n",
      "('R', 'L', 'R', 'L', ' ', 'L', 'R', 'L', 'R')\n",
      "('R', 'L', ' ', 'L', 'R', 'L', 'R', 'L', 'R')\n",
      "(' ', 'L', 'R', 'L', 'R', 'L', 'R', 'L', 'R')\n",
      "('L', ' ', 'R', 'L', 'R', 'L', 'R', 'L', 'R')\n",
      "('L', 'L', 'R', ' ', 'R', 'L', 'R', 'L', 'R')\n",
      "('L', 'L', 'R', 'L', 'R', ' ', 'R', 'L', 'R')\n",
      "('L', 'L', 'R', 'L', 'R', 'L', 'R', ' ', 'R')\n",
      "('L', 'L', 'R', 'L', 'R', 'L', ' ', 'R', 'R')\n",
      "('L', 'L', 'R', 'L', ' ', 'L', 'R', 'R', 'R')\n",
      "('L', 'L', ' ', 'L', 'R', 'L', 'R', 'R', 'R')\n",
      "('L', 'L', 'L', ' ', 'R', 'L', 'R', 'R', 'R')\n",
      "('L', 'L', 'L', 'L', 'R', ' ', 'R', 'R', 'R')\n",
      "('L', 'L', 'L', 'L', ' ', 'R', 'R', 'R', 'R')\n",
      "Depth-first solution: ( 25 steps)\n",
      "('R', 'R', 'R', 'R', ' ', 'L', 'L', 'L', 'L')\n",
      "('R', 'R', 'R', ' ', 'R', 'L', 'L', 'L', 'L')\n",
      "('R', 'R', 'R', 'L', 'R', ' ', 'L', 'L', 'L')\n",
      "('R', 'R', 'R', 'L', 'R', 'L', ' ', 'L', 'L')\n",
      "('R', 'R', 'R', 'L', ' ', 'L', 'R', 'L', 'L')\n",
      "('R', 'R', ' ', 'L', 'R', 'L', 'R', 'L', 'L')\n",
      "('R', ' ', 'R', 'L', 'R', 'L', 'R', 'L', 'L')\n",
      "('R', 'L', 'R', ' ', 'R', 'L', 'R', 'L', 'L')\n",
      "('R', 'L', 'R', 'L', 'R', ' ', 'R', 'L', 'L')\n",
      "('R', 'L', 'R', 'L', 'R', 'L', 'R', ' ', 'L')\n",
      "('R', 'L', 'R', 'L', 'R', 'L', 'R', 'L', ' ')\n",
      "('R', 'L', 'R', 'L', 'R', 'L', ' ', 'L', 'R')\n",
      "('R', 'L', 'R', 'L', ' ', 'L', 'R', 'L', 'R')\n",
      "('R', 'L', ' ', 'L', 'R', 'L', 'R', 'L', 'R')\n",
      "(' ', 'L', 'R', 'L', 'R', 'L', 'R', 'L', 'R')\n",
      "('L', ' ', 'R', 'L', 'R', 'L', 'R', 'L', 'R')\n",
      "('L', 'L', 'R', ' ', 'R', 'L', 'R', 'L', 'R')\n",
      "('L', 'L', 'R', 'L', 'R', ' ', 'R', 'L', 'R')\n",
      "('L', 'L', 'R', 'L', 'R', 'L', 'R', ' ', 'R')\n",
      "('L', 'L', 'R', 'L', 'R', 'L', ' ', 'R', 'R')\n",
      "('L', 'L', 'R', 'L', ' ', 'L', 'R', 'R', 'R')\n",
      "('L', 'L', ' ', 'L', 'R', 'L', 'R', 'R', 'R')\n",
      "('L', 'L', 'L', ' ', 'R', 'L', 'R', 'R', 'R')\n",
      "('L', 'L', 'L', 'L', 'R', ' ', 'R', 'R', 'R')\n",
      "('L', 'L', 'L', 'L', ' ', 'R', 'R', 'R', 'R')\n"
     ]
    }
   ],
   "source": [
    "bfs = breadthFirstSearch(camelStartState, camelGoalState, camelSuccessorsf)\n",
    "print('Breadth-first solution: (', len(bfs), 'steps)')\n",
    "for s in bfs:\n",
    "    print(s)\n",
    "\n",
    "dfs = depthFirstSearch(camelStartState, camelGoalState, camelSuccessorsf)\n",
    "print('Depth-first solution: (', len(dfs), 'steps)')\n",
    "for s in dfs:\n",
    "    print(s)"
   ]
  },
  {
   "cell_type": "markdown",
   "metadata": {},
   "source": [
    "## Grading\n",
    "\n",
    "Your notebook will be run and graded automatically. Download [A1grader.tar](http://www.cs.colostate.edu/~anderson/cs440/notebooks/A1grader.tar)  and extract A1grader.py from it. Run the code in the following cell to demonstrate an example grading session. You should see a perfect score of 80/100 if your functions are defined correctly. \n",
    "\n",
    "The remaining 20% will be based on your writing.  In markdown cells, explain what your functions are doing and summarize the algorithms.\n",
    "\n",
    "Add at least one markdown cell that describes problems you encountered in trying to solve this assignment."
   ]
  },
  {
   "cell_type": "markdown",
   "metadata": {},
   "source": [
    "## Check-in"
   ]
  },
  {
   "cell_type": "markdown",
   "metadata": {},
   "source": [
    "Do not include this section in your notebook.\n",
    "\n",
    "Name your notebook ```Lastname-A1.ipynb```.  So, for me it would be ```Anderson-A1.ipynb```.  Submit the file using the ```Assignment 1``` link on [Canvas](https://colostate.instructure.com/courses/55296).\n",
    "\n",
    "Grading will be based on \n",
    "\n",
    "  * correct behavior of the required functions, and\n",
    "  * readability of the notebook."
   ]
  },
  {
   "cell_type": "code",
   "execution_count": 12,
   "metadata": {},
   "outputs": [
    {
     "name": "stdout",
     "output_type": "stream",
     "text": [
      "Searching this graph:\n",
      " {'c': ['e'], 'a': ['b'], 'e': ['g', 'h', 'i'], 'd': ['f', 'i'], 'b': ['c', 'd']}\n",
      "Looking for path from a to b.\n",
      "20/20 points. Your breadthFirstSearch found correct solution path of ['a', 'b']\n",
      "20/20 points. Your depthFirstSearch found correct solution path of ['a', 'b']\n",
      "Looking for path from a to i.\n",
      "20/20 points. Your breadthFirstSearch found correct solution path of ['a', 'b', 'd', 'i']\n",
      "20/20 points. Your depthFirstSearch found correct solution path of ['a', 'b', 'c', 'e', 'i']\n",
      "\n",
      "assign1 Grade is 80/100\n",
      "Up to 20 more points will be given based on the qualty of your descriptions of the method and the results.\n"
     ]
    }
   ],
   "source": [
    "%run -i A1grader.py"
   ]
  },
  {
   "cell_type": "code",
   "execution_count": null,
   "metadata": {
    "collapsed": true
   },
   "outputs": [],
   "source": []
  }
 ],
 "metadata": {
  "anaconda-cloud": {},
  "kernelspec": {
   "display_name": "Python 3",
   "language": "python",
   "name": "python3"
  },
  "language_info": {
   "codemirror_mode": {
    "name": "ipython",
    "version": 3
   },
   "file_extension": ".py",
   "mimetype": "text/x-python",
   "name": "python",
   "nbconvert_exporter": "python",
   "pygments_lexer": "ipython3",
   "version": "3.6.2"
  }
 },
 "nbformat": 4,
 "nbformat_minor": 1
}
