{
 "cells": [
  {
   "cell_type": "markdown",
   "metadata": {},
   "source": [
    "# Why Python?\n",
    "\n",
    "  * Concise, intuitive programming language.  \n",
    "  * Ability to **play** with data and computation ideas.\n",
    "    * Data persistence\n",
    "    * Matrix, vector structures and operations are easy\n",
    "    * Interpreter, using same language as programs.\n",
    "    * Functional and object-oriented programming style\n",
    "  * Rich, easy-to-use visualization\n",
    "  * Fast computation. (See [Python Speed](http://wiki.python.org/moin/PythonSpeed))\n",
    "  * Large community of users and developers; **FREE**"
   ]
  },
  {
   "cell_type": "markdown",
   "metadata": {},
   "source": [
    "# What is Python?\n",
    "\n",
    "  * an open-source language and environment for computing and graphics\n",
    "  * started in 1989 by Guido van Rossum in the Netherlands\n",
    "  * is a multi-paradigm programming language\n",
    "  * has dynamic typing\n",
    "  * has garbage collection\n",
    "  * easily extensible in C, C++ and Fortran\n",
    "  * available for Unix, Windows, and MacOS systems\n",
    "  * is the [language of choice](https://medium.com/towards-data-science/what-is-the-best-programming-language-for-machine-learning-a745c156d6b7)  for many researchers in AI\n",
    "  * [jobs!](http://www.python.org/community/jobs/)"
   ]
  },
  {
   "cell_type": "markdown",
   "metadata": {},
   "source": [
    "# Installing and Running Python\n",
    "\n",
    "Python is installed on our department's systems.\n",
    "\n",
    "Download and install python on your own computer by following\n",
    "instructions at [http://www.python.org](http://www.python.org) or install the [Anaconda distribution](https://www.continuum.io/).\n",
    "\n",
    "On our systems, enter the `ipython` interactive environment with\n",
    "\n",
    "    ipython\n",
    "    \n",
    "To quit, type control-d\n",
    "\n",
    "To run python code in file `code.py`, either type\n",
    "\n",
    "    run code.py\n",
    "    \n",
    "in `ipython`, or type\n",
    "\n",
    "    python code.py\n",
    "    \n",
    "at the unix command prompt.\n",
    "\n",
    "When in the `ipython`, you may type python statements or expressions\n",
    "that are evaluated, or `ipython` commands.  See the\n",
    "[Video\n",
    "tutorial on using ipython](http://showmedo.com/videotutorials/video?name=1000010&fromSeriesID=100), in five parts by Jeff Rush, for help\n",
    "getting started with `ipython`.\n",
    "\n",
    "Here we will use the [jupyter notebook](http://jupyter.org/) to provide examples that you can download and run."
   ]
  },
  {
   "cell_type": "markdown",
   "metadata": {},
   "source": [
    "# Assigning values to variables"
   ]
  },
  {
   "cell_type": "code",
   "execution_count": 1,
   "metadata": {
    "scrolled": true
   },
   "outputs": [
    {
     "data": {
      "text/plain": [
       "465.1"
      ]
     },
     "execution_count": 1,
     "metadata": {},
     "output_type": "execute_result"
    }
   ],
   "source": [
    "x = 33\n",
    "y = 432.1\n",
    "x + y"
   ]
  },
  {
   "cell_type": "code",
   "execution_count": 2,
   "metadata": {},
   "outputs": [
    {
     "name": "stdout",
     "output_type": "stream",
     "text": [
      "x\t y\t \n"
     ]
    }
   ],
   "source": [
    "who"
   ]
  },
  {
   "cell_type": "code",
   "execution_count": 5,
   "metadata": {},
   "outputs": [
    {
     "name": "stdout",
     "output_type": "stream",
     "text": [
      "Variable   Type     Data/Info\n",
      "-----------------------------\n",
      "me         str      chuck\n",
      "x          int      33\n",
      "y          float    432.1\n",
      "you        str      jill\n"
     ]
    }
   ],
   "source": [
    "whos"
   ]
  },
  {
   "cell_type": "code",
   "execution_count": 4,
   "metadata": {
    "collapsed": true
   },
   "outputs": [],
   "source": [
    "me = 'chuck'\n",
    "you = 'jill'"
   ]
  },
  {
   "cell_type": "code",
   "execution_count": null,
   "metadata": {
    "collapsed": true
   },
   "outputs": [],
   "source": [
    "whos"
   ]
  },
  {
   "cell_type": "code",
   "execution_count": null,
   "metadata": {
    "collapsed": true
   },
   "outputs": [],
   "source": [
    "me + you"
   ]
  },
  {
   "cell_type": "code",
   "execution_count": 6,
   "metadata": {},
   "outputs": [
    {
     "data": {
      "text/plain": [
       "'chuck jill'"
      ]
     },
     "execution_count": 6,
     "metadata": {},
     "output_type": "execute_result"
    }
   ],
   "source": [
    "me + ' ' + you"
   ]
  },
  {
   "cell_type": "markdown",
   "metadata": {},
   "source": [
    "# Defining and using functions"
   ]
  },
  {
   "cell_type": "code",
   "execution_count": 7,
   "metadata": {
    "collapsed": true
   },
   "outputs": [],
   "source": [
    "def add(x, increment=1):\n",
    "    '''This is a very powerful addition function.\n",
    "    Usage:\n",
    "      >>> add(10)\n",
    "      11\n",
    "      >>> add(10, 3)\n",
    "      13'''\n",
    "    return x + increment    "
   ]
  },
  {
   "cell_type": "code",
   "execution_count": 8,
   "metadata": {
    "collapsed": true
   },
   "outputs": [],
   "source": [
    "add?"
   ]
  },
  {
   "cell_type": "code",
   "execution_count": 9,
   "metadata": {},
   "outputs": [
    {
     "data": {
      "text/plain": [
       "31"
      ]
     },
     "execution_count": 9,
     "metadata": {},
     "output_type": "execute_result"
    }
   ],
   "source": [
    "add(30)"
   ]
  },
  {
   "cell_type": "code",
   "execution_count": 10,
   "metadata": {},
   "outputs": [
    {
     "data": {
      "text/plain": [
       "130"
      ]
     },
     "execution_count": 10,
     "metadata": {},
     "output_type": "execute_result"
    }
   ],
   "source": [
    "add(30, 100)"
   ]
  },
  {
   "cell_type": "markdown",
   "metadata": {},
   "source": [
    "# Random search for polynomial roots, using python\n",
    "\n",
    "Let's say you need to know, approximately, the roots of $x^3 - 4x^2 -11x + 30$.  What are they?\n",
    "\n",
    "You have a fast computer at your disposal, and python is installed on\n",
    "it.   What do you do?\n",
    "\n",
    "Define a function named `f` that takes one argument `x` and\n",
    "returns the value of the above polynomial."
   ]
  },
  {
   "cell_type": "code",
   "execution_count": 11,
   "metadata": {
    "collapsed": true
   },
   "outputs": [],
   "source": [
    "def f(x):\n",
    "    return x**3 - 4 * x**2 - 11 * x + 30"
   ]
  },
  {
   "cell_type": "code",
   "execution_count": 64,
   "metadata": {},
   "outputs": [
    {
     "data": {
      "text/plain": [
       "-4.292999999999992"
      ]
     },
     "execution_count": 64,
     "metadata": {},
     "output_type": "execute_result"
    }
   ],
   "source": [
    "f(2.3)"
   ]
  },
  {
   "cell_type": "markdown",
   "metadata": {},
   "source": [
    "Now we need to figure out how to generate a random number, say between -10\n",
    "and 10, in python.  Try searching the net for `python random number`.  You soon discover the `random` module.\n",
    "\n",
    "Modules in python are defined by python source files.  The `random`\n",
    "module is defined in a file named `random.py`.  Where might it be on\n",
    "our system?  Try\n",
    "\n",
    "    locate random.py\n",
    "    \n",
    "On my computer I see it is in `/usr/lib64/python3.5`. Take a look at\n",
    "the file contents.\n",
    "\n",
    "To use this module, you must first import it.\n",
    "\n",
    "    import random\n",
    "    \n",
    "This interprets the contents of the file, defining variables,\n",
    "functions, and classes for your use during the python session.\n",
    "\n",
    "On the `random` module web page we found, you can read through the\n",
    "available functions, such as `uniform(a,b)` which generates a\n",
    "pseudo-random number between `a` and `b`.  Call it like\n",
    "\n",
    "    randomNumber = random.uniform(-10, 10)\n",
    "  \n",
    "because `uniform` lives in the module name's namespace."
   ]
  },
  {
   "cell_type": "code",
   "execution_count": 17,
   "metadata": {},
   "outputs": [
    {
     "name": "stdout",
     "output_type": "stream",
     "text": [
      "-9.2678655185\n"
     ]
    }
   ],
   "source": [
    "import random\n",
    "randomNumber = random.uniform(-10,10)\n",
    "print(randomNumber)"
   ]
  },
  {
   "cell_type": "markdown",
   "metadata": {},
   "source": [
    "Now we need a way to loop a number of times, each time generating a\n",
    "new pseudo-random number and testing it as the argument to our\n",
    "polynomial function `f`.  We can use a for loop, like"
   ]
  },
  {
   "cell_type": "code",
   "execution_count": 18,
   "metadata": {},
   "outputs": [
    {
     "name": "stdout",
     "output_type": "stream",
     "text": [
      "0\n",
      "1\n",
      "2\n",
      "3\n",
      "4\n"
     ]
    }
   ],
   "source": [
    "for i in range(5):\n",
    "    print(i)"
   ]
  },
  {
   "cell_type": "markdown",
   "metadata": {},
   "source": [
    "`range(5)` produces a generator for the sequence `0, 1, 2, 3, 4`, so the same loop could\n",
    "be written"
   ]
  },
  {
   "cell_type": "code",
   "execution_count": 19,
   "metadata": {},
   "outputs": [
    {
     "name": "stdout",
     "output_type": "stream",
     "text": [
      "0\n",
      "1\n",
      "2\n",
      "3\n",
      "4\n"
     ]
    }
   ],
   "source": [
    "for i in [0, 1, 2, 3, 4]:\n",
    "    print(i)"
   ]
  },
  {
   "cell_type": "markdown",
   "metadata": {},
   "source": [
    "Now, we are ready to try a bunch of random argument values."
   ]
  },
  {
   "cell_type": "code",
   "execution_count": null,
   "metadata": {
    "collapsed": true
   },
   "outputs": [],
   "source": [
    "import random"
   ]
  },
  {
   "cell_type": "code",
   "execution_count": 20,
   "metadata": {},
   "outputs": [
    {
     "name": "stdout",
     "output_type": "stream",
     "text": [
      "(-3.2282706082249346, -9.820116050531567)\n",
      "(-4.439327822448698, -87.4865569135808)\n",
      "(9.588268448316306, 438.285902420477)\n",
      "(4.361598579597439, -11.098698548151866)\n",
      "(1.8389607463205735, 2.4632797534144864)\n"
     ]
    }
   ],
   "source": [
    "for i in range(5):\n",
    "    x = random.uniform(-10, 10)\n",
    "    fx = f(x)\n",
    "    print(x, fx)"
   ]
  },
  {
   "cell_type": "markdown",
   "metadata": {},
   "source": [
    "Humm...we need to try many more $x$ values to find some for which\n",
    "$f(x)\\approx 0$.  And we must keep track of the $x$ value for which\n",
    "$|f(x)|$ is the closest to zero.  We could use two variables for this,\n",
    "one for the best $x$ and $f(x)$ so far, but let's do this in a more\n",
    "pythonic way...as a pair, or a tuple, like\n",
    "\n",
    "    bestSoFar = (x,fx)\n",
    "    \n",
    "The elements of a tuple cannot be modified, but they can be accessed\n",
    "by\n",
    "\n",
    "    bestSoFar[0]  # x\n",
    "    bestSoFar[1]  # f(x)\n",
    "    \n",
    "Lists can also be accessed this way.  Multiple elements can be\n",
    "accessed with slices."
   ]
  },
  {
   "cell_type": "code",
   "execution_count": 21,
   "metadata": {},
   "outputs": [
    {
     "data": {
      "text/plain": [
       "[0, 1, 2, 3, 4, 5]"
      ]
     },
     "execution_count": 21,
     "metadata": {},
     "output_type": "execute_result"
    }
   ],
   "source": [
    "nums = [0, 1, 2, 3, 4, 5]\n",
    "nums"
   ]
  },
  {
   "cell_type": "code",
   "execution_count": 22,
   "metadata": {},
   "outputs": [
    {
     "data": {
      "text/plain": [
       "[2, 3]"
      ]
     },
     "execution_count": 22,
     "metadata": {},
     "output_type": "execute_result"
    }
   ],
   "source": [
    "nums[2:4]"
   ]
  },
  {
   "cell_type": "code",
   "execution_count": 23,
   "metadata": {},
   "outputs": [
    {
     "data": {
      "text/plain": [
       "[0, 1, 2]"
      ]
     },
     "execution_count": 23,
     "metadata": {},
     "output_type": "execute_result"
    }
   ],
   "source": [
    "nums[:3]"
   ]
  },
  {
   "cell_type": "code",
   "execution_count": 24,
   "metadata": {},
   "outputs": [
    {
     "data": {
      "text/plain": [
       "[2, 3, 4, 5]"
      ]
     },
     "execution_count": 24,
     "metadata": {},
     "output_type": "execute_result"
    }
   ],
   "source": [
    "nums[2:]"
   ]
  },
  {
   "cell_type": "markdown",
   "metadata": {},
   "source": [
    "Okay, so now we have `x`, `fx`, and `bestSoFar`.  How do we test\n",
    "to see if we have a new best result and then update `bestSoFar`?\n",
    "\n",
    "Develop your python thoughts in small steps, testing each piece."
   ]
  },
  {
   "cell_type": "code",
   "execution_count": 25,
   "metadata": {},
   "outputs": [
    {
     "data": {
      "text/plain": [
       "(0, 30)"
      ]
     },
     "execution_count": 25,
     "metadata": {},
     "output_type": "execute_result"
    }
   ],
   "source": [
    "firstx = 0\n",
    "bestSoFar = (firstx, f(firstx))\n",
    "bestSoFar"
   ]
  },
  {
   "cell_type": "code",
   "execution_count": 26,
   "metadata": {},
   "outputs": [
    {
     "data": {
      "text/plain": [
       "-12"
      ]
     },
     "execution_count": 26,
     "metadata": {},
     "output_type": "execute_result"
    }
   ],
   "source": [
    "newx = 3\n",
    "fx = f(newx)\n",
    "fx"
   ]
  },
  {
   "cell_type": "markdown",
   "metadata": {},
   "source": [
    "Which value for $x$ is better, 30 or -12?"
   ]
  },
  {
   "cell_type": "code",
   "execution_count": null,
   "metadata": {
    "collapsed": true
   },
   "outputs": [],
   "source": [
    "abs(fx) < abs(bestSoFar[1])"
   ]
  },
  {
   "cell_type": "markdown",
   "metadata": {},
   "source": [
    "So, we can update `bestSoFar` using\n",
    "\n",
    "    if abs(fx) < abs(bestSoFar[1]):\n",
    "        bestSoFar = (x, fx)\n",
    "        \n",
    "It's just that simple.\n",
    "\n",
    "Now, putting the pieces together, the complete python code to find the value of $x$ from a set of 100 random values for which $f(x)$ is closest to zero, we do the following."
   ]
  },
  {
   "cell_type": "code",
   "execution_count": 31,
   "metadata": {
    "collapsed": true
   },
   "outputs": [],
   "source": [
    "import random\n",
    "\n",
    "def f(x):\n",
    "    return x**3 - 4*x**2 - 11*x + 30\n",
    "\n",
    "bestSoFar = (0, f(0))\n",
    "\n",
    "for step in range(10000):\n",
    "    x = random.uniform(-100, 100)\n",
    "    fx = f(x)\n",
    "    if (abs(fx) < abs(bestSoFar[1])):\n",
    "        bestSoFar = (x, fx)"
   ]
  },
  {
   "cell_type": "code",
   "execution_count": 32,
   "metadata": {},
   "outputs": [
    {
     "data": {
      "text/plain": [
       "(1.9873915232714268, 0.18944309388341551)"
      ]
     },
     "execution_count": 32,
     "metadata": {},
     "output_type": "execute_result"
    }
   ],
   "source": [
    "bestSoFar"
   ]
  },
  {
   "cell_type": "markdown",
   "metadata": {},
   "source": [
    "Not such a great root value.  $f(x)$ is not very close to zero.\n",
    "\n",
    "Let's try 10000 random numbers."
   ]
  },
  {
   "cell_type": "code",
   "execution_count": 33,
   "metadata": {
    "collapsed": true
   },
   "outputs": [],
   "source": [
    "bestSoFar = (0, f(0))\n",
    "\n",
    "for step in range(1000):\n",
    "    x = random.uniform(-10, 10)\n",
    "    fx = f(x)\n",
    "    if (abs(fx) < abs(bestSoFar[1])):\n",
    "        bestSoFar = (x, fx)"
   ]
  },
  {
   "cell_type": "code",
   "execution_count": 34,
   "metadata": {},
   "outputs": [
    {
     "data": {
      "text/plain": [
       "(1.9894980092452315, 0.15774928665758736)"
      ]
     },
     "execution_count": 34,
     "metadata": {},
     "output_type": "execute_result"
    }
   ],
   "source": [
    "bestSoFar"
   ]
  },
  {
   "cell_type": "markdown",
   "metadata": {},
   "source": [
    "That's better.  Try again with more numbers?  But this is getting tedious. Let's write a function to do this that takes\n",
    "one argument as the number of values of $x$ to try.\n",
    "\n",
    "Also, let's include an argument that accepts the function for which we want\n",
    "to find a root.  How do you pass a function into another function as\n",
    "an argument?\n",
    "\n",
    "We will do this in class. First, download this jupyter notebook. Then, run\n",
    "\n",
    "     jupyter notebook\n",
    "     \n",
    "open this notebook, then scroll down to this cell and define and test the function."
   ]
  },
  {
   "cell_type": "code",
   "execution_count": 35,
   "metadata": {
    "collapsed": true
   },
   "outputs": [],
   "source": [
    "def findRoot(f, xmin, xmax, n=1000):\n",
    "    bestSoFar = (0, f(0))\n",
    "    for step in range(n):\n",
    "        x = random.uniform(xmin, xmax)\n",
    "        fx = f(x)\n",
    "        if (abs(fx) < abs(bestSoFar[1])):\n",
    "            bestSoFar = (x, fx)\n",
    "    return bestSoFar"
   ]
  },
  {
   "cell_type": "code",
   "execution_count": 36,
   "metadata": {},
   "outputs": [
    {
     "data": {
      "text/plain": [
       "(2.000051335881656, -0.0007700329539552797)"
      ]
     },
     "execution_count": 36,
     "metadata": {},
     "output_type": "execute_result"
    }
   ],
   "source": [
    "findRoot(f, -10, 10, 100000)"
   ]
  },
  {
   "cell_type": "markdown",
   "metadata": {},
   "source": [
    "# Plotting\n",
    "\n",
    "Now for some fun.  Let's plot the progress of our search by collecting\n",
    "the `bestSoFar` values every time they are updated.  How do we plot\n",
    "in python?  Again, you can search the net.  To speed things up, here\n",
    "is an example.\n",
    "\n",
    "    import matplotlib.pyplot as plt\n",
    "    plt.ion()  #interactive plotting on\n",
    "    plt.plot(range(10), 'o-')\n",
    "    \n",
    "In this jupyter notebook, we will specify the plots to be inline, rather than calling `plt.ion()`."
   ]
  },
  {
   "cell_type": "code",
   "execution_count": 39,
   "metadata": {
    "collapsed": true
   },
   "outputs": [],
   "source": [
    "import matplotlib.pyplot as plt\n",
    "%matplotlib inline"
   ]
  },
  {
   "cell_type": "code",
   "execution_count": 41,
   "metadata": {},
   "outputs": [
    {
     "data": {
      "image/png": "[encoded data removed]",
      "text/plain": [
       "<matplotlib.figure.Figure at 0x104e3f210>"
      ]
     },
     "metadata": {},
     "output_type": "display_data"
    }
   ],
   "source": [
    "plt.plot(range(10), 'o-')\n",
    "plt.show()\n",
    "\n"
   ]
  },
  {
   "cell_type": "markdown",
   "metadata": {},
   "source": [
    "Ta-da!  A plot!  The x-axis values were assumed to be $0,\\ldots,n$\n",
    "where $n$ is the number of values given as the first argument.\n",
    "\n",
    "Here is another example.  Let's plot the values of the sine function,\n",
    "which is defined in the `numpy` module.  We will also make use of the\n",
    "`linspace` function in the `numpy` module to generate some $x$\n",
    "values, and the `sin` function."
   ]
  },
  {
   "cell_type": "code",
   "execution_count": 42,
   "metadata": {},
   "outputs": [
    {
     "data": {
      "text/plain": [
       "[<matplotlib.lines.Line2D at 0x105025950>]"
      ]
     },
     "execution_count": 42,
     "metadata": {},
     "output_type": "execute_result"
    },
    {
     "data": {
      "image/png": "[encoded data removed]",
      "text/plain": [
       "<matplotlib.figure.Figure at 0x103adb950>"
      ]
     },
     "metadata": {},
     "output_type": "display_data"
    }
   ],
   "source": [
    "import numpy as np\n",
    "\n",
    "xs = np.linspace(-10,10,100)\n",
    "plt.plot(xs,np.sin(xs))"
   ]
  },
  {
   "cell_type": "markdown",
   "metadata": {},
   "source": [
    "If we were working from inside the `ipython` environment, this adds the sine curve to the current plot.  We could first clear\n",
    "the figure by doing\n",
    "\n",
    "    plt.clf()"
   ]
  },
  {
   "cell_type": "markdown",
   "metadata": {},
   "source": [
    "Now, to collect the `bestSoFar` values.  Let's just build up a list\n",
    "called `trace` by adding the new value of `bestSoFar` whenever it\n",
    "is changed.  Can use the `append` list method for this.\n",
    "\n",
    "    trace.append(bestSoFar)\n",
    "    \n",
    "assuming `trace` was initialized.\n",
    "\n",
    "Here is a function for this.  Let's put it with the import statements\n",
    "in a python source file, named `findRoot.py`. Notice that the function returns two things, the\n",
    "`bestSoFar` pair, and the `trace`, as a tuple."
   ]
  },
  {
   "cell_type": "code",
   "execution_count": 43,
   "metadata": {
    "collapsed": true
   },
   "outputs": [],
   "source": [
    "import random\n",
    "import matplotlib.pyplot as plt\n",
    "\n",
    "def findRoot(f, xmin, xmax, maxSteps=1000):\n",
    "    bestSoFar = (0, f(0))\n",
    "    trace = [bestSoFar]\n",
    "    for step in range(maxSteps):\n",
    "        x = random.uniform(xmin, xmax)\n",
    "        fx = f(x)\n",
    "        if (abs(fx) < abs(bestSoFar[1])):\n",
    "            bestSoFar = (x,fx)\n",
    "            trace.append(bestSoFar)\n",
    "    return (bestSoFar, trace)"
   ]
  },
  {
   "cell_type": "code",
   "execution_count": 44,
   "metadata": {},
   "outputs": [
    {
     "data": {
      "text/plain": [
       "((2.06746958211051, -1.0026323113495081),\n",
       " [(0, 30),\n",
       "  (-2.1555961208753143, 25.10899741093883),\n",
       "  (1.2029597208112985, 12.719812267140146),\n",
       "  (-3.158189240583855, -6.656837990816129),\n",
       "  (5.215706008090187, 5.69880069787515),\n",
       "  (4.794097968117068, -4.484026000927074),\n",
       "  (1.8896383117404056, 1.6784405558637232),\n",
       "  (2.06746958211051, -1.0026323113495081)])"
      ]
     },
     "execution_count": 44,
     "metadata": {},
     "output_type": "execute_result"
    }
   ],
   "source": [
    "findRoot(f, -10, 10, 100)"
   ]
  },
  {
   "cell_type": "markdown",
   "metadata": {},
   "source": [
    "Now we see this function returned the best guess at the root, but it also returned the sequence of best guesses so far."
   ]
  },
  {
   "cell_type": "markdown",
   "metadata": {},
   "source": [
    "From this notebook, we can write this code into a file named `findRoot.py`."
   ]
  },
  {
   "cell_type": "code",
   "execution_count": 45,
   "metadata": {},
   "outputs": [
    {
     "name": "stdout",
     "output_type": "stream",
     "text": [
      "Writing findRoot.py\n"
     ]
    }
   ],
   "source": [
    "%%writefile findRoot.py\n",
    "import random\n",
    "import matplotlib.pyplot as plt\n",
    "\n",
    "def findRoot(f, xmin, xmax, maxSteps=1000):\n",
    "    bestSoFar = (0, f(0))\n",
    "    trace = [bestSoFar]\n",
    "    for step in range(maxSteps):\n",
    "        x = random.uniform(xmin, xmax)\n",
    "        fx = f(x)\n",
    "        if (abs(fx) < abs(bestSoFar[1])):\n",
    "            bestSoFar = (x,fx)\n",
    "            trace.append(bestSoFar)\n",
    "    return (bestSoFar, trace)"
   ]
  },
  {
   "cell_type": "markdown",
   "metadata": {},
   "source": [
    "This file can be loaded\n",
    "into `ipython` and used as shown here."
   ]
  },
  {
   "cell_type": "code",
   "execution_count": 48,
   "metadata": {
    "collapsed": true
   },
   "outputs": [],
   "source": [
    "import findRoot"
   ]
  },
  {
   "cell_type": "code",
   "execution_count": 49,
   "metadata": {
    "collapsed": true
   },
   "outputs": [],
   "source": [
    "def f(x):\n",
    "    return x**3 - 4 * x**2 - 11 * x + 30"
   ]
  },
  {
   "cell_type": "code",
   "execution_count": 50,
   "metadata": {},
   "outputs": [
    {
     "data": {
      "text/plain": [
       "((4.999097271728081, -0.021656515160046297),\n",
       " [(0, 30),\n",
       "  (3.639020487619163, -14.809485766588054),\n",
       "  (-3.2151570113304073, -9.218043631487532),\n",
       "  (5.27757029412925, 7.530570486865791),\n",
       "  (-3.0343538749640464, -1.3895379960433445),\n",
       "  (4.997934531610916, -0.049524322393303066),\n",
       "  (1.9978546297996562, 0.03218974835743893),\n",
       "  (4.999097271728081, -0.021656515160046297)])"
      ]
     },
     "execution_count": 50,
     "metadata": {},
     "output_type": "execute_result"
    }
   ],
   "source": [
    "findRoot.findRoot(f, -10, 10, 1000)"
   ]
  },
  {
   "cell_type": "markdown",
   "metadata": {},
   "source": [
    "What we want to plot is the second of each pair in the list that is\n",
    "the second thing returned.  \n",
    "\n",
    "Hummm...here is a chance to show the\n",
    "beauty of list comprehensions.  Remember set notation?  What is the\n",
    "set $\\{x^2 | x \\in \\mathcal{N}, x < 10\\}$?  List comprehensions mimic this\n",
    "notation.  The same set in python is"
   ]
  },
  {
   "cell_type": "code",
   "execution_count": 51,
   "metadata": {},
   "outputs": [
    {
     "data": {
      "text/plain": [
       "[0, 1, 4, 9, 16, 25, 36, 49, 64, 81]"
      ]
     },
     "execution_count": 51,
     "metadata": {},
     "output_type": "execute_result"
    }
   ],
   "source": [
    "[x**2 for x in range(10)]"
   ]
  },
  {
   "cell_type": "markdown",
   "metadata": {},
   "source": [
    "Now, if we assign the result of `findRoot`, like"
   ]
  },
  {
   "cell_type": "code",
   "execution_count": 52,
   "metadata": {
    "collapsed": true
   },
   "outputs": [],
   "source": [
    "result = findRoot.findRoot(f, -10, 10, 10000)"
   ]
  },
  {
   "cell_type": "markdown",
   "metadata": {},
   "source": [
    "we can collect just the best $f(x)$ values by"
   ]
  },
  {
   "cell_type": "code",
   "execution_count": 53,
   "metadata": {},
   "outputs": [
    {
     "data": {
      "text/plain": [
       "[30,\n",
       " -5.731549335982592,\n",
       " 2.97982090025414,\n",
       " -1.9530187312644998,\n",
       " -0.1565921915949886,\n",
       " -0.08918912500621445,\n",
       " -0.04723493589918348,\n",
       " -0.04298059211584615,\n",
       " 0.03875786089854216,\n",
       " -0.03618447613936837,\n",
       " -0.03594285567562849]"
      ]
     },
     "execution_count": 53,
     "metadata": {},
     "output_type": "execute_result"
    }
   ],
   "source": [
    "values = [a[1] for a in result[1]]\n",
    "values"
   ]
  },
  {
   "cell_type": "markdown",
   "metadata": {},
   "source": [
    "and these can be plotted like"
   ]
  },
  {
   "cell_type": "code",
   "execution_count": 54,
   "metadata": {},
   "outputs": [
    {
     "data": {
      "text/plain": [
       "[<matplotlib.lines.Line2D at 0x104e82510>]"
      ]
     },
     "execution_count": 54,
     "metadata": {},
     "output_type": "execute_result"
    },
    {
     "data": {
      "image/png": "[encoded data removed]",
      "text/plain": [
       "<matplotlib.figure.Figure at 0x104e82bd0>"
      ]
     },
     "metadata": {},
     "output_type": "display_data"
    }
   ],
   "source": [
    "plt.plot(values, 'o-')\n",
    "plt.plot([0, len(values)-1], [0, 0], 'r--')"
   ]
  },
  {
   "cell_type": "markdown",
   "metadata": {},
   "source": [
    "We computer scientists are all about testing our code, right?  So, for\n",
    "every module (meaning every python source file) you write, you should\n",
    "include some testing code.  An easy way to do this is to add some\n",
    "statements at the end of the file that call the functions defined\n",
    "above.  We don't want these called every time you import your file,\n",
    "though.  Only when it is run, by doing\n",
    "\n",
    "    run findRoot\n",
    "    \n",
    "in `ipython`, or by doing\n",
    "\n",
    "    python findRoot.py\n",
    "    \n",
    "from the unix command line.  When your code is run by either of these,\n",
    "the variable `__name__` has the string value\n",
    "`__main__`, so the testing code can be in the true block of\n",
    "an if statement that checks this.  The whole file is now"
   ]
  },
  {
   "cell_type": "code",
   "execution_count": 55,
   "metadata": {},
   "outputs": [
    {
     "name": "stdout",
     "output_type": "stream",
     "text": [
      "Overwriting findRoot.py\n"
     ]
    }
   ],
   "source": [
    "%%writefile findRoot.py\n",
    "import random\n",
    "import matplotlib.pyplot as plt\n",
    "\n",
    "def findRoot(f, xmin, xmax, maxSteps=1000):\n",
    "    bestSoFar = (0, f(0))\n",
    "    trace = [bestSoFar]\n",
    "    for step in range(maxSteps):\n",
    "        x = random.uniform(xmin, xmax)\n",
    "        fx = f(x)\n",
    "        if (abs(fx) < abs(bestSoFar[1])):\n",
    "            bestSoFar = (x, fx)\n",
    "            trace.append(bestSoFar)\n",
    "    return (bestSoFar, trace)\n",
    "\n",
    "if __name__ == '__main__':\n",
    "    \n",
    "    def f(x):\n",
    "        return x**3 - 4*x**2 - 11*x + 30\n",
    "    \n",
    "    result = findRoot(f, -10, 10, 10000)\n",
    "    print(result)\n",
    "    values = [bests[1] for bests in result[1]]\n",
    "    plt.plot(values,'o-')\n",
    "    plt.plot([0, len(values)-1], [0, 0], 'r--')"
   ]
  },
  {
   "cell_type": "code",
   "execution_count": 56,
   "metadata": {
    "collapsed": true
   },
   "outputs": [],
   "source": [
    "import findRoot"
   ]
  },
  {
   "cell_type": "code",
   "execution_count": 57,
   "metadata": {},
   "outputs": [
    {
     "name": "stdout",
     "output_type": "stream",
     "text": [
      "((1.9990763811559358, 0.013855988016590715), [(0, 30), (-2.5697052570199563, 14.884463969353696), (-2.7417160268207112, 9.481351268365884), (2.2870664396573392, -4.117525988799656), (1.7662856819508725, 3.602193502792119), (1.8412578798831252, 2.4275297708311747), (-2.980629662691543, 0.7699430307051571), (-3.009019724000521, -0.36184731429788286), (4.989257660693539, -0.25654800660643673), (-2.9949989531001346, 0.1997168649619141), (1.9985755992480172, 0.02137006622475468), (1.9990763811559358, 0.013855988016590715)])\n"
     ]
    },
    {
     "data": {
      "image/png": "[encoded data removed]",
      "text/plain": [
       "<matplotlib.figure.Figure at 0x104bb9890>"
      ]
     },
     "metadata": {},
     "output_type": "display_data"
    }
   ],
   "source": [
    "run findRoot"
   ]
  },
  {
   "cell_type": "markdown",
   "metadata": {},
   "source": [
    "# Dictionaries"
   ]
  },
  {
   "cell_type": "markdown",
   "metadata": {},
   "source": [
    "Python inludes a very efficient implementation of associative maps,\n",
    "which are called *dictionaries* in python.  Each entry has a key and\n",
    "a value.  Keys must only be immutable objects.  \n",
    "\n",
    "Here is a dictionary for associating grades with people.  The key is a\n",
    "string."
   ]
  },
  {
   "cell_type": "code",
   "execution_count": 58,
   "metadata": {},
   "outputs": [
    {
     "data": {
      "text/plain": [
       "{'Jim': 88.2, 'Kim': 93, 'Slim': 75.2}"
      ]
     },
     "execution_count": 58,
     "metadata": {},
     "output_type": "execute_result"
    }
   ],
   "source": [
    "grades = {'Jim' : 88.2, 'Kim': 93, 'Slim': 75.2}\n",
    "grades"
   ]
  },
  {
   "cell_type": "code",
   "execution_count": 59,
   "metadata": {},
   "outputs": [
    {
     "data": {
      "text/plain": [
       "88.2"
      ]
     },
     "execution_count": 59,
     "metadata": {},
     "output_type": "execute_result"
    }
   ],
   "source": [
    "grades['Jim']"
   ]
  },
  {
   "cell_type": "code",
   "execution_count": 60,
   "metadata": {
    "collapsed": true
   },
   "outputs": [],
   "source": [
    "grades['Kim'] = 94.2"
   ]
  },
  {
   "cell_type": "code",
   "execution_count": 61,
   "metadata": {},
   "outputs": [
    {
     "data": {
      "text/plain": [
       "{'Jim': 88.2, 'Kim': 94.2, 'Slim': 75.2}"
      ]
     },
     "execution_count": 61,
     "metadata": {},
     "output_type": "execute_result"
    }
   ],
   "source": [
    "grades"
   ]
  },
  {
   "cell_type": "code",
   "execution_count": null,
   "metadata": {
    "collapsed": true
   },
   "outputs": [],
   "source": [
    "grades['Wim'] = 52"
   ]
  },
  {
   "cell_type": "code",
   "execution_count": null,
   "metadata": {
    "collapsed": true
   },
   "outputs": [],
   "source": [
    "grades"
   ]
  },
  {
   "cell_type": "code",
   "execution_count": 65,
   "metadata": {},
   "outputs": [
    {
     "ename": "KeyError",
     "evalue": "'Nim'",
     "output_type": "error",
     "traceback": [
      "\u001b[0;31m---------------------------------------------------------------------------\u001b[0m",
      "\u001b[0;31mKeyError\u001b[0m                                  Traceback (most recent call last)",
      "\u001b[0;32m<ipython-input-65-a76076dd4738>\u001b[0m in \u001b[0;36m<module>\u001b[0;34m()\u001b[0m\n\u001b[0;32m----> 1\u001b[0;31m \u001b[0mgrades\u001b[0m\u001b[0;34m[\u001b[0m\u001b[0;34m'Nim'\u001b[0m\u001b[0;34m]\u001b[0m\u001b[0;34m\u001b[0m\u001b[0m\n\u001b[0m",
      "\u001b[0;31mKeyError\u001b[0m: 'Nim'"
     ]
    }
   ],
   "source": [
    "grades['Nim']"
   ]
  },
  {
   "cell_type": "code",
   "execution_count": 66,
   "metadata": {},
   "outputs": [
    {
     "ename": "KeyError",
     "evalue": "1",
     "output_type": "error",
     "traceback": [
      "\u001b[0;31m---------------------------------------------------------------------------\u001b[0m",
      "\u001b[0;31mKeyError\u001b[0m                                  Traceback (most recent call last)",
      "\u001b[0;32m<ipython-input-66-bcf8357e0719>\u001b[0m in \u001b[0;36m<module>\u001b[0;34m()\u001b[0m\n\u001b[0;32m----> 1\u001b[0;31m \u001b[0mgrades\u001b[0m\u001b[0;34m[\u001b[0m\u001b[0;36m1\u001b[0m\u001b[0;34m]\u001b[0m\u001b[0;34m\u001b[0m\u001b[0m\n\u001b[0m",
      "\u001b[0;31mKeyError\u001b[0m: 1"
     ]
    }
   ],
   "source": [
    "grades[1]\n"
   ]
  },
  {
   "cell_type": "raw",
   "metadata": {},
   "source": []
  },
  {
   "cell_type": "code",
   "execution_count": 62,
   "metadata": {},
   "outputs": [
    {
     "name": "stdout",
     "output_type": "stream",
     "text": [
      "('Jim', 88.2)\n",
      "('Kim', 94.2)\n",
      "('Slim', 75.2)\n"
     ]
    }
   ],
   "source": [
    "for k, v in grades.items():\n",
    "    print(k,v)"
   ]
  },
  {
   "cell_type": "markdown",
   "metadata": {},
   "source": [
    "# Pass by reference versus pass by value"
   ]
  },
  {
   "cell_type": "markdown",
   "metadata": {},
   "source": [
    "Most everything in python is a reference, except primitive types.  So"
   ]
  },
  {
   "cell_type": "code",
   "execution_count": null,
   "metadata": {
    "collapsed": true
   },
   "outputs": [],
   "source": [
    "x = [1, 2]\n",
    "x"
   ]
  },
  {
   "cell_type": "code",
   "execution_count": null,
   "metadata": {
    "collapsed": true
   },
   "outputs": [],
   "source": [
    "y = x\n",
    "y"
   ]
  },
  {
   "cell_type": "code",
   "execution_count": null,
   "metadata": {
    "collapsed": true
   },
   "outputs": [],
   "source": [
    "y.append(3)\n",
    "y"
   ]
  },
  {
   "cell_type": "code",
   "execution_count": null,
   "metadata": {
    "collapsed": true
   },
   "outputs": [],
   "source": [
    "x"
   ]
  },
  {
   "cell_type": "markdown",
   "metadata": {},
   "source": [
    "Careful, though.  When concatenating two lists with `+`, copies are\n",
    "made."
   ]
  },
  {
   "cell_type": "code",
   "execution_count": null,
   "metadata": {
    "collapsed": true
   },
   "outputs": [],
   "source": [
    "x = [1, 2]\n",
    "x"
   ]
  },
  {
   "cell_type": "code",
   "execution_count": null,
   "metadata": {
    "collapsed": true
   },
   "outputs": [],
   "source": [
    "y = x\n",
    "y"
   ]
  },
  {
   "cell_type": "code",
   "execution_count": null,
   "metadata": {
    "collapsed": true
   },
   "outputs": [],
   "source": [
    "y = y + [3]\n",
    "y"
   ]
  },
  {
   "cell_type": "code",
   "execution_count": null,
   "metadata": {
    "collapsed": true
   },
   "outputs": [],
   "source": [
    "x"
   ]
  },
  {
   "cell_type": "markdown",
   "metadata": {},
   "source": [
    "With primitive types, the result is more what you would expect."
   ]
  },
  {
   "cell_type": "code",
   "execution_count": null,
   "metadata": {
    "collapsed": true
   },
   "outputs": [],
   "source": [
    "x = 42\n",
    "x"
   ]
  },
  {
   "cell_type": "code",
   "execution_count": null,
   "metadata": {
    "collapsed": true
   },
   "outputs": [],
   "source": [
    "y = x\n",
    "y"
   ]
  },
  {
   "cell_type": "code",
   "execution_count": null,
   "metadata": {
    "collapsed": true
   },
   "outputs": [],
   "source": [
    "y += 1\n",
    "y"
   ]
  },
  {
   "cell_type": "code",
   "execution_count": null,
   "metadata": {
    "collapsed": true
   },
   "outputs": [],
   "source": [
    "x"
   ]
  },
  {
   "cell_type": "markdown",
   "metadata": {},
   "source": [
    "Therefore, passing arguments to functions is by reference except for\n",
    "primitive types."
   ]
  },
  {
   "cell_type": "code",
   "execution_count": 67,
   "metadata": {
    "collapsed": true
   },
   "outputs": [],
   "source": [
    "def changeInt(x):\n",
    "    x = x + 2\n",
    "    print('In changeInt', x)\n",
    "\n",
    "def changeStr(s):\n",
    "    s = s + ' you'\n",
    "    print('In changeStr', s)\n",
    "\n",
    "def changeList(lst):\n",
    "    lst = lst + [23, 52.0]\n",
    "    print('In changeList', lst)\n",
    "\n",
    "def changeList2(lst):\n",
    "    lst.append([23, 52.0])\n",
    "    print('In changeList2', lst)\n",
    "\n",
    "def changeDict(dct):\n",
    "    dict['newone'] = 42\n",
    "    print('In changeDict', dict)"
   ]
  },
  {
   "cell_type": "code",
   "execution_count": 68,
   "metadata": {
    "collapsed": true
   },
   "outputs": [],
   "source": [
    "num = 33\n",
    "s = \"hello\"\n",
    "lst = [1, 2, 3]\n",
    "dict = {'a':34, 'b':22}"
   ]
  },
  {
   "cell_type": "code",
   "execution_count": 69,
   "metadata": {},
   "outputs": [
    {
     "name": "stdout",
     "output_type": "stream",
     "text": [
      "33\n",
      "('In changeInt', 35)\n",
      "33\n",
      "()\n",
      "hello\n",
      "('In changeStr', 'hello you')\n",
      "hello\n",
      "()\n",
      "[1, 2, 3]\n",
      "('In changeList', [1, 2, 3, 23, 52.0])\n",
      "[1, 2, 3]\n",
      "()\n",
      "[1, 2, 3]\n",
      "('In changeList2', [1, 2, 3, [23, 52.0]])\n",
      "[1, 2, 3, [23, 52.0]]\n",
      "()\n",
      "{'a': 34, 'b': 22}\n",
      "('In changeDict', {'a': 34, 'b': 22, 'newone': 42})\n",
      "{'a': 34, 'b': 22, 'newone': 42}\n",
      "()\n"
     ]
    }
   ],
   "source": [
    "print(num)\n",
    "changeInt(num)\n",
    "print(num)\n",
    "print()\n",
    "\n",
    "print(s)\n",
    "changeStr(s)\n",
    "print(s)\n",
    "print()\n",
    "\n",
    "print(lst)\n",
    "changeList(lst)\n",
    "print(lst)\n",
    "print()\n",
    "\n",
    "print(lst)\n",
    "changeList2(lst)\n",
    "print(lst)\n",
    "print()\n",
    "\n",
    "print(dict)\n",
    "changeDict(dict)\n",
    "print(dict)\n",
    "print()"
   ]
  },
  {
   "cell_type": "markdown",
   "metadata": {},
   "source": [
    "# Writing and debugging a module\n",
    "\n",
    "Say you are editing some python code in a file named `search.py` and\n",
    "you write some test code in a file named\n",
    "`testSearch.py`.  You want to `run testSearch.py` or use\n",
    "`control-c control-c` in emacs to repeatedly run the test code after\n",
    "editing `search.py`.  You must force python to reload the search\n",
    "module by starting `testSearch.py` with\n",
    "\n",
    "    import search\n",
    "    import imp\n",
    "    imp.reload(search)"
   ]
  },
  {
   "cell_type": "markdown",
   "metadata": {},
   "source": [
    "# Confusing scope of variables\n",
    "\n",
    "In most languages, since"
   ]
  },
  {
   "cell_type": "code",
   "execution_count": 70,
   "metadata": {
    "collapsed": true
   },
   "outputs": [],
   "source": [
    "x = 20\n",
    "def addTen():\n",
    "    print(x + 10)"
   ]
  },
  {
   "cell_type": "code",
   "execution_count": 71,
   "metadata": {},
   "outputs": [
    {
     "name": "stdout",
     "output_type": "stream",
     "text": [
      "30\n"
     ]
    }
   ],
   "source": [
    "addTen()"
   ]
  },
  {
   "cell_type": "markdown",
   "metadata": {},
   "source": [
    "works, you would expect"
   ]
  },
  {
   "cell_type": "code",
   "execution_count": 72,
   "metadata": {
    "collapsed": true
   },
   "outputs": [],
   "source": [
    "x = 20\n",
    "def addTen():\n",
    "    x = x + 10"
   ]
  },
  {
   "cell_type": "markdown",
   "metadata": {},
   "source": [
    "to work, too, but"
   ]
  },
  {
   "cell_type": "code",
   "execution_count": 73,
   "metadata": {},
   "outputs": [
    {
     "ename": "UnboundLocalError",
     "evalue": "local variable 'x' referenced before assignment",
     "output_type": "error",
     "traceback": [
      "\u001b[0;31m---------------------------------------------------------------------------\u001b[0m",
      "\u001b[0;31mUnboundLocalError\u001b[0m                         Traceback (most recent call last)",
      "\u001b[0;32m<ipython-input-73-8c1da04c7112>\u001b[0m in \u001b[0;36m<module>\u001b[0;34m()\u001b[0m\n\u001b[0;32m----> 1\u001b[0;31m \u001b[0maddTen\u001b[0m\u001b[0;34m(\u001b[0m\u001b[0;34m)\u001b[0m\u001b[0;34m\u001b[0m\u001b[0m\n\u001b[0m",
      "\u001b[0;32m<ipython-input-72-e6205baf180b>\u001b[0m in \u001b[0;36maddTen\u001b[0;34m()\u001b[0m\n\u001b[1;32m      1\u001b[0m \u001b[0mx\u001b[0m \u001b[0;34m=\u001b[0m \u001b[0;36m20\u001b[0m\u001b[0;34m\u001b[0m\u001b[0m\n\u001b[1;32m      2\u001b[0m \u001b[0;32mdef\u001b[0m \u001b[0maddTen\u001b[0m\u001b[0;34m(\u001b[0m\u001b[0;34m)\u001b[0m\u001b[0;34m:\u001b[0m\u001b[0;34m\u001b[0m\u001b[0m\n\u001b[0;32m----> 3\u001b[0;31m     \u001b[0mx\u001b[0m \u001b[0;34m=\u001b[0m \u001b[0mx\u001b[0m \u001b[0;34m+\u001b[0m \u001b[0;36m10\u001b[0m\u001b[0;34m\u001b[0m\u001b[0m\n\u001b[0m",
      "\u001b[0;31mUnboundLocalError\u001b[0m: local variable 'x' referenced before assignment"
     ]
    }
   ],
   "source": [
    "addTen()"
   ]
  },
  {
   "cell_type": "markdown",
   "metadata": {},
   "source": [
    "What's going on?\n",
    "\n",
    "The assignment to `x` in the second function forces `x` to be\n",
    "local to the function, therefore its use on the right-hand side is\n",
    "referencing a local variable that does not have a value yet.  The\n",
    "first version of the function does not assign to `x` so uses the\n",
    "reference to `x` defined outside the function.  If you want to\n",
    "change `x` in the outer environment, then you must set its value\n",
    "using a returned result, or add a `global` statement."
   ]
  },
  {
   "cell_type": "code",
   "execution_count": 74,
   "metadata": {
    "collapsed": true
   },
   "outputs": [],
   "source": [
    "def addTen():\n",
    "    return x + 10"
   ]
  },
  {
   "cell_type": "code",
   "execution_count": 75,
   "metadata": {},
   "outputs": [
    {
     "data": {
      "text/plain": [
       "20"
      ]
     },
     "execution_count": 75,
     "metadata": {},
     "output_type": "execute_result"
    }
   ],
   "source": [
    "x"
   ]
  },
  {
   "cell_type": "code",
   "execution_count": 76,
   "metadata": {},
   "outputs": [
    {
     "data": {
      "text/plain": [
       "30"
      ]
     },
     "execution_count": 76,
     "metadata": {},
     "output_type": "execute_result"
    }
   ],
   "source": [
    "x = addTen()\n",
    "x"
   ]
  },
  {
   "cell_type": "markdown",
   "metadata": {},
   "source": [
    "Watch out!  This still messes me up from time to time."
   ]
  },
  {
   "cell_type": "markdown",
   "metadata": {},
   "source": [
    "# Passing by reference  is great, except when it's not\n",
    "\n",
    "Data structures like lists are easily changed in a function.  Here is\n",
    "one."
   ]
  },
  {
   "cell_type": "code",
   "execution_count": 77,
   "metadata": {
    "collapsed": true
   },
   "outputs": [],
   "source": [
    "def removeLast(stuff):\n",
    "    return stuff.pop()"
   ]
  },
  {
   "cell_type": "code",
   "execution_count": 78,
   "metadata": {
    "collapsed": true
   },
   "outputs": [],
   "source": [
    "nums = range(10)"
   ]
  },
  {
   "cell_type": "code",
   "execution_count": 79,
   "metadata": {},
   "outputs": [
    {
     "data": {
      "text/plain": [
       "[0, 1, 2, 3, 4, 5, 6, 7, 8, 9]"
      ]
     },
     "execution_count": 79,
     "metadata": {},
     "output_type": "execute_result"
    }
   ],
   "source": [
    "nums"
   ]
  },
  {
   "cell_type": "code",
   "execution_count": 80,
   "metadata": {
    "collapsed": true
   },
   "outputs": [],
   "source": [
    "nums = list(range(10))"
   ]
  },
  {
   "cell_type": "code",
   "execution_count": 81,
   "metadata": {},
   "outputs": [
    {
     "data": {
      "text/plain": [
       "[0, 1, 2, 3, 4, 5, 6, 7, 8, 9]"
      ]
     },
     "execution_count": 81,
     "metadata": {},
     "output_type": "execute_result"
    }
   ],
   "source": [
    "nums"
   ]
  },
  {
   "cell_type": "code",
   "execution_count": 82,
   "metadata": {},
   "outputs": [
    {
     "data": {
      "text/plain": [
       "9"
      ]
     },
     "execution_count": 82,
     "metadata": {},
     "output_type": "execute_result"
    }
   ],
   "source": [
    "removeLast(nums)"
   ]
  },
  {
   "cell_type": "code",
   "execution_count": 83,
   "metadata": {},
   "outputs": [
    {
     "data": {
      "text/plain": [
       "8"
      ]
     },
     "execution_count": 83,
     "metadata": {},
     "output_type": "execute_result"
    }
   ],
   "source": [
    "removeLast(nums)"
   ]
  },
  {
   "cell_type": "code",
   "execution_count": 84,
   "metadata": {},
   "outputs": [
    {
     "data": {
      "text/plain": [
       "7"
      ]
     },
     "execution_count": 84,
     "metadata": {},
     "output_type": "execute_result"
    }
   ],
   "source": [
    "removeLast(nums)"
   ]
  },
  {
   "cell_type": "code",
   "execution_count": 85,
   "metadata": {},
   "outputs": [
    {
     "data": {
      "text/plain": [
       "[0, 1, 2, 3, 4, 5, 6]"
      ]
     },
     "execution_count": 85,
     "metadata": {},
     "output_type": "execute_result"
    }
   ],
   "source": [
    "nums"
   ]
  },
  {
   "cell_type": "markdown",
   "metadata": {},
   "source": [
    "Now let's try appending elements."
   ]
  },
  {
   "cell_type": "code",
   "execution_count": 86,
   "metadata": {
    "collapsed": true
   },
   "outputs": [],
   "source": [
    "def addToEnd(stuff, item):\n",
    "    stuff.append(item)"
   ]
  },
  {
   "cell_type": "code",
   "execution_count": 87,
   "metadata": {
    "collapsed": true
   },
   "outputs": [],
   "source": [
    "addToEnd(nums, 10)"
   ]
  },
  {
   "cell_type": "code",
   "execution_count": 88,
   "metadata": {},
   "outputs": [
    {
     "data": {
      "text/plain": [
       "[0, 1, 2, 3, 4, 5, 6, 10]"
      ]
     },
     "execution_count": 88,
     "metadata": {},
     "output_type": "execute_result"
    }
   ],
   "source": [
    "nums"
   ]
  },
  {
   "cell_type": "markdown",
   "metadata": {},
   "source": [
    "Okay.  Let's add more than one element."
   ]
  },
  {
   "cell_type": "code",
   "execution_count": 89,
   "metadata": {
    "collapsed": true
   },
   "outputs": [],
   "source": [
    "def addToEnd(stuff, items):\n",
    "    stuff = stuff + items  # or stuff += items"
   ]
  },
  {
   "cell_type": "code",
   "execution_count": 90,
   "metadata": {
    "collapsed": true
   },
   "outputs": [],
   "source": [
    "addToEnd(nums, [20, 21])"
   ]
  },
  {
   "cell_type": "code",
   "execution_count": 91,
   "metadata": {},
   "outputs": [
    {
     "data": {
      "text/plain": [
       "[0, 1, 2, 3, 4, 5, 6, 10]"
      ]
     },
     "execution_count": 91,
     "metadata": {},
     "output_type": "execute_result"
    }
   ],
   "source": [
    "nums"
   ]
  },
  {
   "cell_type": "markdown",
   "metadata": {},
   "source": [
    "Rats!  What's going on?\n",
    "\n",
    "The `+` operator on lists creates a new list rather than modifying\n",
    "the old list.  And the reference to the new list is assigned to the\n",
    "local variable `stuff`.  So, `stuff` first referred to the\n",
    "`nums` list which was used on the right hand side of the assignment,\n",
    "but then `stuff` was reassigned to refer to the new list.  What do\n",
    "you do if you want to change `nums`?"
   ]
  },
  {
   "cell_type": "code",
   "execution_count": 92,
   "metadata": {
    "collapsed": true
   },
   "outputs": [],
   "source": [
    "def addToEnd(stuff, items):\n",
    "    return stuff + items"
   ]
  },
  {
   "cell_type": "code",
   "execution_count": 93,
   "metadata": {},
   "outputs": [
    {
     "data": {
      "text/plain": [
       "[0, 1, 2, 3, 4, 5, 6, 10, 20, 21]"
      ]
     },
     "execution_count": 93,
     "metadata": {},
     "output_type": "execute_result"
    }
   ],
   "source": [
    "addToEnd(nums, [20, 21])"
   ]
  },
  {
   "cell_type": "markdown",
   "metadata": {},
   "source": [
    "Oops.  Oh yeah . . ."
   ]
  },
  {
   "cell_type": "code",
   "execution_count": 94,
   "metadata": {
    "collapsed": true
   },
   "outputs": [],
   "source": [
    "nums = addToEnd(nums, [20, 21])"
   ]
  },
  {
   "cell_type": "code",
   "execution_count": 95,
   "metadata": {},
   "outputs": [
    {
     "data": {
      "text/plain": [
       "[0, 1, 2, 3, 4, 5, 6, 10, 20, 21]"
      ]
     },
     "execution_count": 95,
     "metadata": {},
     "output_type": "execute_result"
    }
   ],
   "source": [
    "nums"
   ]
  },
  {
   "cell_type": "markdown",
   "metadata": {},
   "source": [
    "Let's say we use a list to represent the state of a search problem.\n",
    "We write a function to modify the state in several ways, to represent\n",
    "the successors of that state.  As an example, let's just add 1 to an\n",
    "element."
   ]
  },
  {
   "cell_type": "code",
   "execution_count": 96,
   "metadata": {
    "collapsed": true
   },
   "outputs": [],
   "source": [
    "def addOne(state, index):\n",
    "    state[index] = state[index] + 1  # or state[index] += 1"
   ]
  },
  {
   "cell_type": "code",
   "execution_count": 97,
   "metadata": {},
   "outputs": [
    {
     "data": {
      "text/plain": [
       "[1, 2, 3]"
      ]
     },
     "execution_count": 97,
     "metadata": {},
     "output_type": "execute_result"
    }
   ],
   "source": [
    "state = [1, 2, 3]\n",
    "state"
   ]
  },
  {
   "cell_type": "code",
   "execution_count": 98,
   "metadata": {
    "collapsed": true
   },
   "outputs": [],
   "source": [
    "addOne(state, 0)"
   ]
  },
  {
   "cell_type": "code",
   "execution_count": 99,
   "metadata": {},
   "outputs": [
    {
     "data": {
      "text/plain": [
       "[2, 2, 3]"
      ]
     },
     "execution_count": 99,
     "metadata": {},
     "output_type": "execute_result"
    }
   ],
   "source": [
    "state"
   ]
  },
  {
   "cell_type": "markdown",
   "metadata": {},
   "source": [
    "That works. But now `state` does not have its original value."
   ]
  },
  {
   "cell_type": "code",
   "execution_count": 100,
   "metadata": {
    "collapsed": true
   },
   "outputs": [],
   "source": [
    "addOne(state, 1)"
   ]
  },
  {
   "cell_type": "code",
   "execution_count": 101,
   "metadata": {},
   "outputs": [
    {
     "data": {
      "text/plain": [
       "[2, 3, 3]"
      ]
     },
     "execution_count": 101,
     "metadata": {},
     "output_type": "execute_result"
    }
   ],
   "source": [
    "state"
   ]
  },
  {
   "cell_type": "markdown",
   "metadata": {},
   "source": [
    "If you want to keep it, you can always store the original state in a separate variable, right?"
   ]
  },
  {
   "cell_type": "code",
   "execution_count": 102,
   "metadata": {
    "collapsed": true
   },
   "outputs": [],
   "source": [
    "origState = [1, 2, 3]"
   ]
  },
  {
   "cell_type": "code",
   "execution_count": 103,
   "metadata": {
    "collapsed": true
   },
   "outputs": [],
   "source": [
    "state = origState"
   ]
  },
  {
   "cell_type": "code",
   "execution_count": 104,
   "metadata": {
    "collapsed": true
   },
   "outputs": [],
   "source": [
    "addOne(state, 0)"
   ]
  },
  {
   "cell_type": "code",
   "execution_count": 105,
   "metadata": {},
   "outputs": [
    {
     "data": {
      "text/plain": [
       "[2, 2, 3]"
      ]
     },
     "execution_count": 105,
     "metadata": {},
     "output_type": "execute_result"
    }
   ],
   "source": [
    "state"
   ]
  },
  {
   "cell_type": "code",
   "execution_count": 106,
   "metadata": {},
   "outputs": [
    {
     "data": {
      "text/plain": [
       "[2, 2, 3]"
      ]
     },
     "execution_count": 106,
     "metadata": {},
     "output_type": "execute_result"
    }
   ],
   "source": [
    "origState"
   ]
  },
  {
   "cell_type": "markdown",
   "metadata": {},
   "source": [
    "Doh!  `origState` and `state` are references to the same object.\n",
    "Solution is to use the `copy` function. (See the [documentation](http://docs.python.org/library/copy.html))."
   ]
  },
  {
   "cell_type": "code",
   "execution_count": 107,
   "metadata": {
    "collapsed": true
   },
   "outputs": [],
   "source": [
    "import copy"
   ]
  },
  {
   "cell_type": "code",
   "execution_count": 108,
   "metadata": {
    "collapsed": true
   },
   "outputs": [],
   "source": [
    "origState = [1, 2, 3]\n",
    "state = copy.copy(origState)\n",
    "addOne(state, 0)"
   ]
  },
  {
   "cell_type": "code",
   "execution_count": 109,
   "metadata": {},
   "outputs": [
    {
     "data": {
      "text/plain": [
       "[2, 2, 3]"
      ]
     },
     "execution_count": 109,
     "metadata": {},
     "output_type": "execute_result"
    }
   ],
   "source": [
    "state"
   ]
  },
  {
   "cell_type": "code",
   "execution_count": 110,
   "metadata": {},
   "outputs": [
    {
     "data": {
      "text/plain": [
       "[1, 2, 3]"
      ]
     },
     "execution_count": 110,
     "metadata": {},
     "output_type": "execute_result"
    }
   ],
   "source": [
    "origState"
   ]
  },
  {
   "cell_type": "markdown",
   "metadata": {},
   "source": [
    "Now, let's get fancy and use a list comprehension to create a list of\n",
    "all ways of adding 1 to the elements of the state."
   ]
  },
  {
   "cell_type": "code",
   "execution_count": 111,
   "metadata": {},
   "outputs": [
    {
     "data": {
      "text/plain": [
       "[None, None, None]"
      ]
     },
     "execution_count": 111,
     "metadata": {},
     "output_type": "execute_result"
    }
   ],
   "source": [
    "[addOne(copy.copy(state), i) for i in range(len(state))]"
   ]
  },
  {
   "cell_type": "markdown",
   "metadata": {},
   "source": [
    "Arrgh!  What happened?  `None` was returned by `addOne`.  Why?\n",
    "Because we didn't return anything!\n",
    "\n",
    "Try again."
   ]
  },
  {
   "cell_type": "code",
   "execution_count": 112,
   "metadata": {
    "collapsed": true
   },
   "outputs": [],
   "source": [
    "def addOne(state, index):\n",
    "    state[index] += 1\n",
    "    return state"
   ]
  },
  {
   "cell_type": "code",
   "execution_count": 113,
   "metadata": {
    "collapsed": true
   },
   "outputs": [],
   "source": [
    "state = [1, 2, 3]"
   ]
  },
  {
   "cell_type": "code",
   "execution_count": 114,
   "metadata": {},
   "outputs": [
    {
     "data": {
      "text/plain": [
       "[[2, 2, 3], [1, 3, 3], [1, 2, 4]]"
      ]
     },
     "execution_count": 114,
     "metadata": {},
     "output_type": "execute_result"
    }
   ],
   "source": [
    "[addOne(copy.copy(state), i) for i in range(len(state))]"
   ]
  },
  {
   "cell_type": "markdown",
   "metadata": {},
   "source": [
    "# Should we remove an element from the beginning or the end of a list?\n",
    "\n",
    "Which end of a list is it faster to `pop` from?  Remember your linked lists? \n",
    "\n",
    "Use the ipython\n",
    "magic function `timeit`."
   ]
  },
  {
   "cell_type": "code",
   "execution_count": 115,
   "metadata": {
    "collapsed": true
   },
   "outputs": [],
   "source": [
    "def testPopFront():\n",
    "    x = list(range(10000))\n",
    "    for i in range(100):\n",
    "        x.pop(0)\n",
    "        \n",
    "def testPopBack():\n",
    "    x = list(range(10000))\n",
    "    for i in range(100):\n",
    "        x.pop()"
   ]
  },
  {
   "cell_type": "code",
   "execution_count": 116,
   "metadata": {},
   "outputs": [
    {
     "name": "stdout",
     "output_type": "stream",
     "text": [
      "1000 loops, best of 3: 401 µs per loop\n"
     ]
    }
   ],
   "source": [
    "timeit testPopFront()"
   ]
  },
  {
   "cell_type": "code",
   "execution_count": 117,
   "metadata": {},
   "outputs": [
    {
     "name": "stdout",
     "output_type": "stream",
     "text": [
      "10000 loops, best of 3: 122 µs per loop\n"
     ]
    }
   ],
   "source": [
    "timeit testPopBack()"
   ]
  },
  {
   "cell_type": "markdown",
   "metadata": {},
   "source": [
    "Popping from the back is faster, about twice as fast."
   ]
  },
  {
   "cell_type": "code",
   "execution_count": null,
   "metadata": {
    "collapsed": true
   },
   "outputs": [],
   "source": []
  }
 ],
 "metadata": {
  "anaconda-cloud": {},
  "kernelspec": {
   "display_name": "Python 2",
   "language": "python",
   "name": "python2"
  },
  "language_info": {
   "codemirror_mode": {
    "name": "ipython",
    "version": 2
   },
   "file_extension": ".py",
   "mimetype": "text/x-python",
   "name": "python",
   "nbconvert_exporter": "python",
   "pygments_lexer": "ipython2",
   "version": "2.7.10"
  }
 },
 "nbformat": 4,
 "nbformat_minor": 2
}
